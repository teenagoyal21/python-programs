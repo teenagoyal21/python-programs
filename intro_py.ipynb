{
 "cells": [
  {
   "cell_type": "code",
   "execution_count": 1,
   "id": "adfdecd7",
   "metadata": {},
   "outputs": [
    {
     "name": "stdout",
     "output_type": "stream",
     "text": [
      "hello world\n",
      "teena goyal\n"
     ]
    }
   ],
   "source": [
    "print(\"hello world\")\n",
    "#comments\n",
    "print(\"teena goyal\")"
   ]
  },
  {
   "cell_type": "code",
   "execution_count": 2,
   "id": "388c75f4",
   "metadata": {},
   "outputs": [
    {
     "name": "stdout",
     "output_type": "stream",
     "text": [
      "1hello\n",
      "1 hello\n",
      "hello teena\n",
      "enter your name!teena\n",
      "hello teena\n"
     ]
    }
   ],
   "source": [
    "a=\"1\"\n",
    "b = \"hello\"\n",
    "print(a+b)\n",
    "\n",
    "a = \"1\"\n",
    "b = \"hello\"\n",
    "print(a,b)\n",
    "\n",
    "a = \"teena\"\n",
    "print(\"hello\",a)\n",
    "\n",
    "a = input(\"enter your name!\")\n",
    "print(\"hello\",a)"
   ]
  },
  {
   "cell_type": "code",
   "execution_count": 3,
   "id": "c02d4ec8",
   "metadata": {},
   "outputs": [
    {
     "name": "stdout",
     "output_type": "stream",
     "text": [
      "7\n"
     ]
    }
   ],
   "source": [
    "a=2\n",
    "b=5\n",
    "c=a+b\n",
    "print(c)"
   ]
  },
  {
   "cell_type": "code",
   "execution_count": 8,
   "id": "639a2647",
   "metadata": {},
   "outputs": [
    {
     "name": "stdout",
     "output_type": "stream",
     "text": [
      "4\n",
      "5\n",
      "45\n"
     ]
    }
   ],
   "source": [
    "a=input()#string form is taken in input\n",
    "b=input()\n",
    "c=a+b\n",
    "print(c)"
   ]
  },
  {
   "cell_type": "code",
   "execution_count": 4,
   "id": "b3f73acb",
   "metadata": {},
   "outputs": [
    {
     "name": "stdout",
     "output_type": "stream",
     "text": [
      "5\n",
      "2\n",
      "7 3 10 25 2.5 2\n"
     ]
    }
   ],
   "source": [
    "a=int(input())\n",
    "b=int(input())\n",
    "c=a+b\n",
    "d=a-b\n",
    "e=a*b\n",
    "f=a**b\n",
    "g=a/b\n",
    "h=a//b\n",
    "print(c,d,e,f,g,h)"
   ]
  },
  {
   "cell_type": "code",
   "execution_count": 7,
   "id": "fc2c8003",
   "metadata": {},
   "outputs": [
    {
     "name": "stdout",
     "output_type": "stream",
     "text": [
      "enter name! teena\n",
      "whtat is your class? 1st\n",
      "('teena', '1st')\n"
     ]
    }
   ],
   "source": [
    "a1=input(\"enter name! \")\n",
    "b2=input(\"whtat is your class? \")\n",
    "c1=a1,b2\n",
    "print(c1)"
   ]
  },
  {
   "cell_type": "code",
   "execution_count": 29,
   "id": "9bc23d63",
   "metadata": {},
   "outputs": [
    {
     "name": "stdout",
     "output_type": "stream",
     "text": [
      "hello teena\n",
      "enter name! kiki\n",
      "\thello kiki\n",
      "enter name!abhishek\n",
      "hello abhishek,do you like tea?\n",
      "\thello teena,i will like to have tea\n"
     ]
    }
   ],
   "source": [
    "#OUTPUT FORMATTING\n",
    "print(\"hello teena\")\n",
    "\n",
    "print(\"\\thello {}\".format(input(\"enter name! \")))\n",
    "\n",
    "print(\"hello {},do you like {}?\".format(input(\"enter name!\"),\"tea\"))\n",
    "\n",
    "print(\"\\thello {0},i will like to have {1}\".format(\"teena\",\"tea\"))"
   ]
  },
  {
   "cell_type": "code",
   "execution_count": 43,
   "id": "55d05e76",
   "metadata": {},
   "outputs": [
    {
     "name": "stdout",
     "output_type": "stream",
     "text": [
      "value of a is: 123.5\n"
     ]
    }
   ],
   "source": [
    "a = 123.456\n",
    "print(\"value of a is: {0:.1f}\".format(a))"
   ]
  },
  {
   "cell_type": "code",
   "execution_count": 46,
   "id": "8683d722",
   "metadata": {},
   "outputs": [
    {
     "name": "stdout",
     "output_type": "stream",
     "text": [
      "<class 'int'>\n",
      "<class 'complex'>\n",
      "<class 'float'>\n",
      "<class 'str'>\n",
      "teenateena\n",
      "<class 'str'>\n"
     ]
    }
   ],
   "source": [
    "#datatypes\n",
    "a=12\n",
    "b=1+2j\n",
    "c=12.34\n",
    "print(type(a))\n",
    "print(type(b))\n",
    "print(type(c))\n",
    "\n",
    "\n",
    "x=\"teena\"\n",
    "y=\"teena\"*2\n",
    "z=\"2\"\n",
    "print(type(x))\n",
    "print(y)\n",
    "print(type(z))"
   ]
  },
  {
   "cell_type": "code",
   "execution_count": 62,
   "id": "5887de95",
   "metadata": {},
   "outputs": [
    {
     "name": "stdout",
     "output_type": "stream",
     "text": [
      "2528097802608\n",
      "2528014199184\n",
      "2528097802096\n"
     ]
    }
   ],
   "source": [
    "a = -4\n",
    "a = 256\n",
    "a = 257\n",
    "print(id(a))\n",
    "print(id(b))\n",
    "print(id(c))"
   ]
  },
  {
   "cell_type": "code",
   "execution_count": 12,
   "id": "4552c24a",
   "metadata": {},
   "outputs": [
    {
     "name": "stdout",
     "output_type": "stream",
     "text": [
      "4\n"
     ]
    }
   ],
   "source": [
    "#find avg of marks\n",
    "#x to the pwer n\n",
    "#arithmatic progression\n",
    "#rectangular area\n",
    "\n",
    "a = pow(2,2)\n",
    "print(a)"
   ]
  },
  {
   "cell_type": "code",
   "execution_count": 2,
   "id": "0dc6d0fd",
   "metadata": {},
   "outputs": [
    {
     "name": "stdout",
     "output_type": "stream",
     "text": [
      "3 \n",
      "1 2 3\n",
      "4 5 6\n",
      "7 8 9\n",
      "[[1, 2, 3], [4, 5, 6], [7, 8, 9]]\n",
      "[[1, 2, 3], [1, 2, 3, 4], [4, 5, 6], [7, 8, 9]]\n"
     ]
    }
   ],
   "source": [
    "n = int(input())\n",
    "listt = [[int(j) for j in input().split()] for i in range(n)]\n",
    "print(listt)\n",
    "listt.insert(1,[1,2,3,4])\n",
    "print(listt)"
   ]
  },
  {
   "cell_type": "code",
   "execution_count": 3,
   "id": "cbcc7574",
   "metadata": {},
   "outputs": [
    {
     "name": "stdout",
     "output_type": "stream",
     "text": [
      "1 2 3\n",
      "4 5 6\n",
      "7 8 9\n",
      "[[1, 2, 3], [4, 5, 6], [7, 8, 9]]\n"
     ]
    }
   ],
   "source": []
  },
  {
   "cell_type": "code",
   "execution_count": 14,
   "id": "8b63a144",
   "metadata": {},
   "outputs": [
    {
     "name": "stdout",
     "output_type": "stream",
     "text": [
      "[3, 5, 7]\n"
     ]
    }
   ],
   "source": [
    "list_a = [1,2,3,4,5,7]\n",
    "list_b = [7,8,9,0,5,3]\n",
    "common_no = [a for a in list_a for b in list_b if a==b]\n",
    "print(common_no)"
   ]
  },
  {
   "cell_type": "code",
   "execution_count": 4,
   "id": "a7c7a957",
   "metadata": {},
   "outputs": [
    {
     "name": "stdout",
     "output_type": "stream",
     "text": [
      "enter the no. of row we want in list: 3\n",
      "enter number of column in list: 4\n",
      "1\n",
      "2\n",
      "3\n",
      "4\n",
      "list has creatn ed: [[1, 2, 3, 4]]\n",
      "5\n",
      "6\n",
      "7\n",
      "8\n",
      "list has creatn ed: [[1, 2, 3, 4], [5, 6, 7, 8]]\n",
      "2\n",
      "4\n",
      "6\n",
      "8\n",
      "list has creatn ed: [[1, 2, 3, 4], [5, 6, 7, 8], [2, 4, 6, 8]]\n",
      "[1, 2, 3, 4]\n",
      "[5, 6, 7, 8]\n",
      "[2, 4, 6, 8]\n"
     ]
    }
   ],
   "source": [
    "list1 = []\n",
    "r = int(input(\"enter the no. of row we want in list: \"))\n",
    "c= int(input(\"enter number of column in list: \"))\n",
    "for i in range(r):\n",
    "    row = []\n",
    "    for j in range(c):\n",
    "        element = int(input())\n",
    "        row.append(element)\n",
    "    list1.append(row)\n",
    "    print(\"list has creatn ed:\", list1)\n",
    "for k in list1:\n",
    "    print(k)"
   ]
  },
  {
   "cell_type": "code",
   "execution_count": 24,
   "id": "84783180",
   "metadata": {},
   "outputs": [
    {
     "name": "stdout",
     "output_type": "stream",
     "text": [
      "3 \n",
      "1 2 3\n",
      "4 5 6\n",
      "7 8 9\n",
      "[[1, 2, 3], [4, 5, 6], [7, 8, 9]]\n",
      "[1, 2, 3]\n",
      "[4, 5, 6]\n",
      "[7, 8, 9]\n"
     ]
    }
   ],
   "source": [
    "n = int(input())\n",
    "listt = [[int(j) for j in input().split()] for i in range(n)]\n",
    "#list form\n",
    "print(listt)\n",
    "#matrix form\n",
    "for k in listt:\n",
    "    print(k)"
   ]
  },
  {
   "cell_type": "code",
   "execution_count": 47,
   "id": "7cc5fd61",
   "metadata": {},
   "outputs": [
    {
     "name": "stdout",
     "output_type": "stream",
     "text": [
      "[[5, 6, 7]]\n"
     ]
    }
   ],
   "source": [
    "lst = [[1,2,3],[5,6,7]]\n",
    "lst.remove([1,2,3])\n",
    "print(lst)"
   ]
  },
  {
   "cell_type": "code",
   "execution_count": 13,
   "id": "1f65c38e",
   "metadata": {},
   "outputs": [
    {
     "name": "stdout",
     "output_type": "stream",
     "text": [
      "enter a date in form mm/dd/yyyy: 12/05/2022\n",
      "dec 5,2022\n"
     ]
    }
   ],
   "source": [
    "mydate = input(\"enter a date in form mm/dd/yyyy: \")\n",
    "datelist = mydate.split('/')\n",
    "month = int(datelist[0])\n",
    "day = int(datelist[1])\n",
    "year = int(datelist[2])\n",
    "if month == 1:\n",
    "    month = 'jan'\n",
    "elif month == 2:\n",
    "    month = 'feb'\n",
    "elif month == 3:\n",
    "    month = 'march'\n",
    "elif month == 4:\n",
    "    month = 'april'\n",
    "elif month == 5:\n",
    "    month = 'may'\n",
    "elif month == 6:\n",
    "    month = 'june'\n",
    "elif month == 7:\n",
    "    month = 'july'\n",
    "elif month == 8:\n",
    "    month = 'august'\n",
    "elif month == 9:\n",
    "    month = 'sep'\n",
    "elif month == 10:\n",
    "    month = 'oct'\n",
    "elif month == 11:\n",
    "    month = 'nov'\n",
    "elif month == 12:\n",
    "    month = 'dec'\n",
    "newdate = month + \" \" + str(day) + \",\" + str(year)\n",
    "print(newdate)"
   ]
  },
  {
   "cell_type": "code",
   "execution_count": 14,
   "id": "29bda19a",
   "metadata": {},
   "outputs": [
    {
     "name": "stdout",
     "output_type": "stream",
     "text": [
      "1 2 3\n",
      "2 3 4\n",
      "4 5 6\n",
      "[[1, 2, 3], [2, 3, 4], [4, 5, 6]]\n",
      "[1, 2, 3]\n",
      "[2, 3, 4]\n",
      "[4, 5, 6]\n"
     ]
    }
   ],
   "source": [
    "listt = [[int(j) for j in input().split()] for i in range(3)]\n",
    "print(listt)\n",
    "for k in listt:\n",
    "    print(k)"
   ]
  },
  {
   "cell_type": "code",
   "execution_count": 31,
   "id": "ad483500",
   "metadata": {},
   "outputs": [
    {
     "name": "stdout",
     "output_type": "stream",
     "text": [
      "teena is graet\n",
      "aneet si tearg "
     ]
    }
   ],
   "source": [
    "i = input()\n",
    "mth = i.split()\n",
    "for i in range(len(mth)):\n",
    "    b = mth[i][::-1]\n",
    "    print(b,end = \" \")"
   ]
  },
  {
   "cell_type": "code",
   "execution_count": 2,
   "id": "d532e2eb",
   "metadata": {},
   "outputs": [
    {
     "name": "stdout",
     "output_type": "stream",
     "text": [
      "teena is great\n",
      "taerg si aneet "
     ]
    }
   ],
   "source": [
    "i = input()\n",
    "b = i[::-1]\n",
    "print(b, end = \"\")"
   ]
  },
  {
   "cell_type": "code",
   "execution_count": 3,
   "id": "1857876f",
   "metadata": {},
   "outputs": [
    {
     "name": "stdout",
     "output_type": "stream",
     "text": [
      "3 \n",
      "1 2 3\n",
      "1 2 4\n",
      "3 4 5\n",
      "[[1, 2, 3], [1, 2, 4], [3, 4, 5]]\n",
      "[1, 2, 3]\n",
      "[1, 2, 4]\n",
      "[3, 4, 5]\n",
      "2 3 4\n",
      "4 5 6\n",
      "5 6 1\n",
      "[[2, 3, 4], [4, 5, 6], [5, 6, 1]]\n",
      "[2, 3, 4]\n",
      "[4, 5, 6]\n",
      "[5, 6, 1]\n",
      "[25, 31, 19]\n",
      "[30, 37, 20]\n",
      "[47, 59, 41]\n"
     ]
    }
   ],
   "source": [
    "n = int(input())\n",
    "x = [[int(j) for j in input().split()] for i in range(n)]\n",
    "print(x)\n",
    "for z in x:\n",
    "    print(z)\n",
    "y = [[int(m) for m in input().split()] for p in range(n)]\n",
    "print(y)\n",
    "for d in y:\n",
    "    print(d)\n",
    "result = [[0,0,0],\n",
    "          [0,0,0],\n",
    "          [0,0,0]]\n",
    "for i in range(len(x)):\n",
    "    for j in range(len(y[0])):\n",
    "        for k in range(len(y)):\n",
    "            result[i][j] += x[i][k]*y[k][j]\n",
    "for r in result:\n",
    "    print(r)"
   ]
  },
  {
   "cell_type": "code",
   "execution_count": 10,
   "id": "9e850a19",
   "metadata": {},
   "outputs": [
    {
     "name": "stdout",
     "output_type": "stream",
     "text": [
      "3\n",
      "1 1 1\n",
      "1 1 1\n",
      "1 1 1\n",
      "[1, 1, 1]\n",
      "[1, 1, 1]\n",
      "[1, 1, 1]\n",
      "1 1 1\n",
      "1 1 1\n",
      "1 1 1\n",
      "[1, 1, 1]\n",
      "[1, 1, 1]\n",
      "[1, 1, 1]\n",
      "[2, 2, 2]\n",
      "[2, 2, 2]\n",
      "[2, 2, 2]\n"
     ]
    }
   ],
   "source": [
    "n = int(input())\n",
    "x = [[int(j) for j in input().split()] for i in range(n)]\n",
    "for k in x:\n",
    "    print(k)\n",
    "y = [[int(a) for a in input().split()] for b in range(n)]\n",
    "for k in y:\n",
    "    print(k)\n",
    "result = [[0,0,0],[0,0,0],[0,0,0]]\n",
    "for i in range(len(x)):\n",
    "    for j in range(len(x[0])):\n",
    "        result[i][j] = x[i][j] + y[i][j]\n",
    "for r in result:\n",
    "    \n",
    "    print(r)"
   ]
  },
  {
   "cell_type": "code",
   "execution_count": 2,
   "id": "7f12817f",
   "metadata": {},
   "outputs": [
    {
     "name": "stdout",
     "output_type": "stream",
     "text": [
      "3\n",
      "1 2 3\n",
      "2 3 4\n",
      "2 3 1\n",
      "[1, 2, 3]\n",
      "[2, 3, 4]\n",
      "[2, 3, 1]\n",
      "1 2 3\n",
      "2 3 4\n",
      "2 1 2\n",
      "[1, 2, 3]\n",
      "[2, 3, 4]\n",
      "[2, 1, 2]\n",
      "[11, 11, 17]\n",
      "[16, 17, 26]\n",
      "[10, 14, 20]\n"
     ]
    }
   ],
   "source": [
    "n = int(input())\n",
    "X = [[int(j) for j in input().split()] for i in range(n)]\n",
    "for k in X:\n",
    "    print(k)\n",
    "Y = [[int(a) for a in input().split()] for b in range(n)]\n",
    "for k in Y:\n",
    "    print(k)\n",
    "result = [[0,0,0],[0,0,0],[0,0,0]]\n",
    "for i in range(len(X)):\n",
    "    for j in range(len(Y[0])):\n",
    "        for k in range(len(Y)):\n",
    "            result[i][j] += X[i][k]*Y[k][j]\n",
    "for r in result:\n",
    "    print(r)"
   ]
  },
  {
   "cell_type": "code",
   "execution_count": 2,
   "id": "498137cd",
   "metadata": {},
   "outputs": [
    {
     "name": "stdout",
     "output_type": "stream",
     "text": [
      "2\n",
      "2\n",
      "1\n",
      "2\n",
      "[[1, 2]]\n",
      "5\n",
      "6\n",
      "[[1, 2], [5, 6]]\n",
      "[1, 2]\n",
      "[5, 6]\n",
      "2\n",
      "2\n",
      "[[2, 2]]\n",
      "3\n",
      "6\n",
      "[[2, 2], [3, 6]]\n",
      "[2, 2]\n",
      "[3, 6]\n",
      "[8, 14, 0]\n",
      "[28, 46, 0]\n",
      "[0, 0, 0]\n"
     ]
    }
   ],
   "source": [
    "X=[]\n",
    "r = int(input())\n",
    "c = int(input())\n",
    "for i in range(r):\n",
    "    row = []\n",
    "    for j in range(c):\n",
    "        element = int(input())\n",
    "        row.append(element)\n",
    "    X.append(row)\n",
    "    print(X)\n",
    "for k in X:\n",
    "    print(k)\n",
    "\n",
    "Y=[]\n",
    "for i in range(r):\n",
    "    row = []\n",
    "    for j in range(c):\n",
    "        element = int(input())\n",
    "        row.append(element)\n",
    "    Y.append(row)\n",
    "    print(Y)\n",
    "for k in Y:\n",
    "    print(k)\n",
    "    \n",
    "result=[[0,0,0],[0,0,0],[0,0,0]]\n",
    "for i in range(len(X)):\n",
    "    for j in range(len(Y[0])):\n",
    "        for k in range(len(Y)):\n",
    "            result[i][j] += X[i][k]*Y[k][j]\n",
    "for r in result:\n",
    "    print(r)\n"
   ]
  },
  {
   "cell_type": "code",
   "execution_count": 16,
   "id": "8e9d39db",
   "metadata": {},
   "outputs": [
    {
     "name": "stdout",
     "output_type": "stream",
     "text": [
      "teena\n",
      "5\n"
     ]
    }
   ],
   "source": [
    "string = input()\n",
    "count = 0\n",
    "for i in string:\n",
    "    if(i.islower()):\n",
    "       count+=1 \n",
    "print(count)\n"
   ]
  },
  {
   "cell_type": "code",
   "execution_count": 23,
   "id": "fc072ce7",
   "metadata": {},
   "outputs": [
    {
     "ename": "TypeError",
     "evalue": "'a' is an invalid keyword argument for print()",
     "output_type": "error",
     "traceback": [
      "\u001b[1;31m---------------------------------------------------------------------------\u001b[0m",
      "\u001b[1;31mTypeError\u001b[0m                                 Traceback (most recent call last)",
      "\u001b[1;32m~\\AppData\\Local\\Temp\\ipykernel_17624\\4002174637.py\u001b[0m in \u001b[0;36m<module>\u001b[1;34m\u001b[0m\n\u001b[0;32m      1\u001b[0m \u001b[0mdictt\u001b[0m \u001b[1;33m=\u001b[0m \u001b[1;33m{\u001b[0m\u001b[1;34m'a'\u001b[0m\u001b[1;33m:\u001b[0m\u001b[1;36m1\u001b[0m\u001b[1;33m,\u001b[0m\u001b[1;34m'b'\u001b[0m\u001b[1;33m:\u001b[0m\u001b[1;36m2\u001b[0m\u001b[1;33m,\u001b[0m\u001b[1;34m'c'\u001b[0m\u001b[1;33m:\u001b[0m\u001b[1;36m3\u001b[0m\u001b[1;33m}\u001b[0m\u001b[1;33m\u001b[0m\u001b[1;33m\u001b[0m\u001b[0m\n\u001b[1;32m----> 2\u001b[1;33m \u001b[0mprint\u001b[0m\u001b[1;33m(\u001b[0m\u001b[1;33m**\u001b[0m\u001b[0mdictt\u001b[0m\u001b[1;33m)\u001b[0m\u001b[1;33m\u001b[0m\u001b[1;33m\u001b[0m\u001b[0m\n\u001b[0m",
      "\u001b[1;31mTypeError\u001b[0m: 'a' is an invalid keyword argument for print()"
     ]
    }
   ],
   "source": [
    "dictt = {'a':1,'b':2,'c':3}\n",
    "print(**dictt)"
   ]
  }
 ],
 "metadata": {
  "kernelspec": {
   "display_name": "Python 3 (ipykernel)",
   "language": "python",
   "name": "python3"
  },
  "language_info": {
   "codemirror_mode": {
    "name": "ipython",
    "version": 3
   },
   "file_extension": ".py",
   "mimetype": "text/x-python",
   "name": "python",
   "nbconvert_exporter": "python",
   "pygments_lexer": "ipython3",
   "version": "3.9.13"
  }
 },
 "nbformat": 4,
 "nbformat_minor": 5
}
