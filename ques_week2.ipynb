{
 "cells": [
  {
   "cell_type": "code",
   "execution_count": 1,
   "id": "c437e76e",
   "metadata": {},
   "outputs": [
    {
     "name": "stdout",
     "output_type": "stream",
     "text": [
      "2\n",
      "5\n",
      "7\n",
      "8\n",
      "[2, 5, 7, 8]\n",
      "2\n",
      "7\n"
     ]
    }
   ],
   "source": [
    "#to input list elements and print alternate numbers of list\n",
    "list = []\n",
    "for i in range(4):\n",
    "    y = int(input())\n",
    "    list.append(y)\n",
    "print(list)\n",
    "for i in range(0,4,2):\n",
    "    print(list[i])\n",
    "#a = list[1::2]\n",
    "#print(a)"
   ]
  },
  {
   "cell_type": "code",
   "execution_count": 2,
   "id": "5f73d463",
   "metadata": {},
   "outputs": [
    {
     "name": "stdout",
     "output_type": "stream",
     "text": [
      "6\n",
      "3\n",
      "5\n",
      "7\n",
      "4\n",
      "[6, 3, 5, 7, 4]\n",
      "[4, 7, 5, 3, 6]\n"
     ]
    }
   ],
   "source": [
    "#reverse all elements of list and display them without using reverse function\n",
    "lst = []\n",
    "for y in range(5):\n",
    "    y = int(input())\n",
    "    lst.append(y)\n",
    "print(lst)\n",
    "a = lst[::-1]\n",
    "print(a)"
   ]
  },
  {
   "cell_type": "code",
   "execution_count": 3,
   "id": "008187b8",
   "metadata": {},
   "outputs": [
    {
     "name": "stdout",
     "output_type": "stream",
     "text": [
      "9\n",
      "8\n",
      "7\n",
      "5\n",
      "2\n",
      "[9, 8, 7, 5, 2]\n",
      "9\n"
     ]
    }
   ],
   "source": [
    "#print the largest number from a list without using max function\n",
    "lst = []\n",
    "for y in range(5):\n",
    "    y = int(input())\n",
    "    lst.append(y)\n",
    "print(lst)\n",
    "ln=lst[0]\n",
    "for i in lst:\n",
    "    if i>ln:\n",
    "        ln=i\n",
    "print(ln)"
   ]
  },
  {
   "cell_type": "code",
   "execution_count": 4,
   "id": "3b154c04",
   "metadata": {},
   "outputs": [
    {
     "name": "stdout",
     "output_type": "stream",
     "text": [
      "[5, 1, 2, 3, 4]\n"
     ]
    }
   ],
   "source": [
    "#write a program to rotate elements of a list\n",
    "lst= [1,2,3,4,5]\n",
    "a=len(lst)\n",
    "b=lst[a-1]\n",
    "for i in range(a-1,0,-1):\n",
    "    lst[i]=lst[i-1]\n",
    "lst[0]=b\n",
    "print(lst)"
   ]
  },
  {
   "cell_type": "code",
   "execution_count": 5,
   "id": "f1a67897",
   "metadata": {},
   "outputs": [
    {
     "name": "stdout",
     "output_type": "stream",
     "text": [
      "tea\n",
      "coffee\n",
      "water\n",
      "chai\n",
      "paani\n",
      "['tea', 'coffee', 'water', 'chai', 'paani']\n",
      "water\n",
      "['tea', 'coffee', 'chai', 'paani']\n"
     ]
    }
   ],
   "source": [
    "#write a program that input a string and ask user to delete a given word from a string\n",
    "lst = []\n",
    "for y in range(5):\n",
    "    y = input()\n",
    "    lst.append(y)\n",
    "print(lst)\n",
    "lst.remove(input())\n",
    "print(lst)"
   ]
  },
  {
   "cell_type": "code",
   "execution_count": 6,
   "id": "30139bde",
   "metadata": {
    "scrolled": true
   },
   "outputs": [
    {
     "name": "stdout",
     "output_type": "stream",
     "text": [
      "tina\n",
      "delete: i\n",
      "tna"
     ]
    }
   ],
   "source": [
    "#to delete a letter from word\n",
    "a = input()\n",
    "b = input(\"delete: \")\n",
    "for i in a :\n",
    "    if i==b:\n",
    "        continue\n",
    "        print(i,end=\"\")\n",
    "    else:\n",
    "        print(i,end=\"\")"
   ]
  },
  {
   "cell_type": "code",
   "execution_count": 7,
   "id": "4e2283df",
   "metadata": {},
   "outputs": [
    {
     "name": "stdout",
     "output_type": "stream",
     "text": [
      "Enter a date(mm/dd/yyyy):10/22/2022\n",
      "oct 22,2022\n"
     ]
    }
   ],
   "source": [
    "##write a program that read a string from user containing a date(mm/dd/yyyy) output should be-eg.(march 4,1990)\n",
    "mydate = input(\"Enter a date(mm/dd/yyyy):\")\n",
    "datelist = mydate.split('/')\n",
    "month = int(datelist[0])\n",
    "day = int(datelist[1])\n",
    "year = int(datelist[2])\n",
    "if month == 1:\n",
    "    month = 'jan'\n",
    "elif month == 2:\n",
    "    month = 'feb'\n",
    "elif month == 3:\n",
    "    month = 'march'\n",
    "elif month == 4:\n",
    "    month = 'april'\n",
    "elif month == 5:\n",
    "    month = 'may'\n",
    "elif month == 6:\n",
    "    month = 'june'\n",
    "elif month == 7:\n",
    "    month = 'july'\n",
    "elif month == 8:\n",
    "    month = 'august'\n",
    "elif month == 9:\n",
    "    month = 'sep'\n",
    "elif month == 10:\n",
    "    month = 'oct'\n",
    "elif month == 11:\n",
    "    month = 'nov'\n",
    "elif month == 12:\n",
    "    month = 'december'\n",
    "newdate = month + ' ' + str(day) + ',' + str(year)\n",
    "print(newdate)"
   ]
  },
  {
   "cell_type": "code",
   "execution_count": 2,
   "id": "ec272d6c",
   "metadata": {},
   "outputs": [
    {
     "name": "stdout",
     "output_type": "stream",
     "text": [
      "Enter a sentence:stop and smell roses\n",
      "Stop And Smell Roses\n"
     ]
    }
   ],
   "source": [
    "#write a program with a function that input a string from user and create a new string-\n",
    "#after converting character of each word capitalize\n",
    "def main():\n",
    "    my_string = input(\"Enter a sentence:\")\n",
    "    print(my_string.title())\n",
    "main()"
   ]
  },
  {
   "cell_type": "code",
   "execution_count": 4,
   "id": "bca65624",
   "metadata": {},
   "outputs": [
    {
     "name": "stdout",
     "output_type": "stream",
     "text": [
      "5\n",
      "* \n",
      "* * \n",
      "* * * \n",
      "* * * * \n",
      "* * * * * \n"
     ]
    }
   ],
   "source": [
    "#write a program to print the following pattern\n",
    "n = int(input())\n",
    "for i in range(1,n+1):\n",
    "    for j in range(1,i+1):\n",
    "        print(\"*\", end = \" \")\n",
    "    print()"
   ]
  },
  {
   "cell_type": "code",
   "execution_count": 19,
   "id": "0432575c",
   "metadata": {},
   "outputs": [
    {
     "name": "stdout",
     "output_type": "stream",
     "text": [
      "A \n",
      "B C \n",
      "C D E \n",
      "D E F G \n",
      "E F G H I \n"
     ]
    }
   ],
   "source": [
    "for i in range(65,70):\n",
    "    k=i\n",
    "    for j in range(65,i+1):\n",
    "        print(chr(k), end = \" \")\n",
    "        k+=1\n",
    "    print()"
   ]
  },
  {
   "cell_type": "code",
   "execution_count": 7,
   "id": "f25689f5",
   "metadata": {},
   "outputs": [
    {
     "name": "stdout",
     "output_type": "stream",
     "text": [
      "5\n",
      "    * \n",
      "   * * \n",
      "  * * * \n",
      " * * * * \n",
      "* * * * * \n"
     ]
    }
   ],
   "source": [
    "n = int(input())\n",
    "k = n-1\n",
    "for i in range(0,n):\n",
    "    for j in range(0,k):\n",
    "        print(end = \" \")\n",
    "    k=k-1\n",
    "    for j in range(0,i+1):\n",
    "        print(\"*\", end = \" \")\n",
    "    print()"
   ]
  },
  {
   "cell_type": "code",
   "execution_count": 33,
   "id": "0246bc85",
   "metadata": {},
   "outputs": [
    {
     "name": "stdout",
     "output_type": "stream",
     "text": [
      "5\n",
      "    * * * * * \n",
      "     * * * * \n",
      "      * * * \n",
      "       * * \n",
      "        * \n"
     ]
    }
   ],
   "source": [
    "n = int(input())\n",
    "k = n-1\n",
    "for i in range(n,0,-1):\n",
    "    for j in range(k,0,-1):\n",
    "        print(end = \" \")\n",
    "    k=k+1\n",
    "    for j in range(0,i):\n",
    "        print(\"*\", end = \" \")\n",
    "    print()"
   ]
  },
  {
   "cell_type": "code",
   "execution_count": 32,
   "id": "a6b02b91",
   "metadata": {},
   "outputs": [
    {
     "name": "stdout",
     "output_type": "stream",
     "text": [
      "5\n",
      "    * * * * * \n",
      "     * * * * \n",
      "      * * * \n",
      "       * * \n",
      "        * \n",
      "       * * \n",
      "      * * * \n",
      "     * * * * \n",
      "    * * * * * \n"
     ]
    }
   ],
   "source": [
    "#hourglass pattern \n",
    "n = int(input())\n",
    "k = n-1\n",
    "for i in range(n,0,-1):\n",
    "    for j in range(k,0,-1):\n",
    "        print(end = \" \")\n",
    "    k=k+1\n",
    "    for j in range(0,i):\n",
    "        print(\"*\", end = \" \")\n",
    "    print()\n",
    "for i in range(1,n):\n",
    "    for j in range(2,k):\n",
    "        print(end = \" \")\n",
    "    k=k-1\n",
    "    for j in range(0,i+1):\n",
    "        print(\"*\", end = \" \")\n",
    "    print()"
   ]
  },
  {
   "cell_type": "code",
   "execution_count": 21,
   "id": "29cee71a",
   "metadata": {},
   "outputs": [
    {
     "name": "stdout",
     "output_type": "stream",
     "text": [
      "5\n",
      "    * \n",
      "   * * \n",
      "  * * * \n",
      " * * * * \n",
      "* * * * * \n",
      "* * * * \n",
      "* * * \n",
      " * * \n",
      "  * \n"
     ]
    }
   ],
   "source": [
    "#diamond shape\n",
    "n = int(input())\n",
    "k = n-1\n",
    "for i in range(0,n):\n",
    "    for j in range(0,k):\n",
    "        print(end = \" \")\n",
    "    k=k-1\n",
    "    for j in range(0,i+1):\n",
    "        print(\"*\", end = \" \")\n",
    "    print()\n",
    "for i in range(n-1,0,-1):\n",
    "    for j in range(k,0,-1):\n",
    "        print(end = \" \")\n",
    "    k=k+1\n",
    "    for j in range(0,i):\n",
    "        print(\"*\", end = \" \")\n",
    "    print()"
   ]
  }
 ],
 "metadata": {
  "kernelspec": {
   "display_name": "Python 3 (ipykernel)",
   "language": "python",
   "name": "python3"
  },
  "language_info": {
   "codemirror_mode": {
    "name": "ipython",
    "version": 3
   },
   "file_extension": ".py",
   "mimetype": "text/x-python",
   "name": "python",
   "nbconvert_exporter": "python",
   "pygments_lexer": "ipython3",
   "version": "3.9.13"
  }
 },
 "nbformat": 4,
 "nbformat_minor": 5
}
