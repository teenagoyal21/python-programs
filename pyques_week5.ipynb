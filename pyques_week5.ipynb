{
 "cells": [
  {
   "cell_type": "code",
   "execution_count": 4,
   "id": "dfa2127e",
   "metadata": {},
   "outputs": [
    {
     "name": "stdout",
     "output_type": "stream",
     "text": [
      "[(1, 2), (3, 4, 6, 723), (134, 234, 34)]\n"
     ]
    }
   ],
   "source": [
    "#given a tuple list, perform sort on basis of total digits in tuple\n",
    "\n",
    "a = [(3,4,6,723),(1,2),(134,234,34)]\n",
    "b = [(1,2)]\n",
    "a.sort()\n",
    "print(a)\n"
   ]
  },
  {
   "cell_type": "code",
   "execution_count": 6,
   "id": "35f646a3",
   "metadata": {},
   "outputs": [
    {
     "name": "stdout",
     "output_type": "stream",
     "text": [
      "1 2 3\n",
      "1 8 7\n",
      "1 6 7\n",
      "[[1, 2, 3], [1, 6, 7], [1, 8, 7]]\n"
     ]
    }
   ],
   "source": [
    "listt = [[int(j) for j in input().split()] for i in range(3)]\n",
    "listt.sort()\n",
    "print(listt)"
   ]
  },
  {
   "cell_type": "code",
   "execution_count": 1,
   "id": "7abaa97b",
   "metadata": {},
   "outputs": [
    {
     "name": "stdout",
     "output_type": "stream",
     "text": [
      "enter the list of number:5 3 7 1 2 9 19 50\n",
      "sorted list: [1, 2, 3, 5, 7, 9, 19, 50]\n"
     ]
    }
   ],
   "source": [
    "#bubble sort...sorting\n",
    "#eg. 5 3 7 1 2 9 19 50\n",
    "def bubble_sort(alist):\n",
    "    for i in range(len(alist)-1,0,-1):\n",
    "        noswap = True\n",
    "        for j in range(0,i):\n",
    "            if alist[j+1]<alist[j]:\n",
    "                alist[j],alist[j+1] = alist[j+1],alist[j]\n",
    "                no_swap = False\n",
    "        if no_swap:\n",
    "            return\n",
    "alist = input(\"enter the list of number:\").split()\n",
    "alist = [int(x) for x in alist]\n",
    "bubble_sort(alist)\n",
    "print(\"sorted list:\",end = \" \")\n",
    "print(alist)"
   ]
  },
  {
   "cell_type": "code",
   "execution_count": 8,
   "id": "eaaa4dd6",
   "metadata": {},
   "outputs": [
    {
     "name": "stdout",
     "output_type": "stream",
     "text": [
      "enter the sorted list of numbers3 4 5 6 7 8 \n",
      "the number to search for:5 \n",
      "5 was found at index: 2 \n"
     ]
    }
   ],
   "source": [
    "def binary_search(alist,key):\n",
    "    start=0\n",
    "    end=len(alist)\n",
    "    while start<end:\n",
    "        mid = (start+end)//2\n",
    "        if alist[mid]>key:\n",
    "            end=mid\n",
    "        elif alist[mid]<key:\n",
    "            start = mid+1\n",
    "        else:\n",
    "            return mid\n",
    "    return -1\n",
    "alist = input(\"enter the sorted list of numbers\")\n",
    "alist = alist.split()\n",
    "alist = [int(x) for x in alist]\n",
    "key = int(input(\"the number to search for:\"))\n",
    "index = binary_search(alist,key)\n",
    "if index<0:\n",
    "    print(\"{} was not found\".format(key))\n",
    "else:\n",
    "    print(\"{} was found at index: {} \".format(key,index))"
   ]
  },
  {
   "cell_type": "code",
   "execution_count": 5,
   "id": "c4e15a13",
   "metadata": {},
   "outputs": [
    {
     "name": "stdout",
     "output_type": "stream",
     "text": [
      "21\n",
      "False\n"
     ]
    }
   ],
   "source": [
    "#sequential search---tells about the presence of key in list\n",
    "def ordered_sequential_search(alist, item):\n",
    "    position = 0\n",
    "\n",
    "    while position < len(alist):\n",
    "        if alist[position] == item:\n",
    "            return True\n",
    "\n",
    "        if alist[position] > item:\n",
    "            return False\n",
    "\n",
    "        position = position + 1\n",
    "\n",
    "    return False\n",
    "\n",
    "testlist = [0, 1, 2, 8, 13, 17, 19, 32, 42,]\n",
    "m = int(input())\n",
    "print(ordered_sequential_search(testlist, m))\n"
   ]
  },
  {
   "cell_type": "code",
   "execution_count": 5,
   "id": "fe4da30c",
   "metadata": {},
   "outputs": [
    {
     "name": "stdout",
     "output_type": "stream",
     "text": [
      "[5, 6, 11, 12, 13]\n"
     ]
    }
   ],
   "source": [
    "#insertion sort\n",
    "def insertionSort(arr):\n",
    "    for i in range(1,len(arr)):\n",
    "        key = arr[i]\n",
    "        j=i-1\n",
    "        while j>=0 and key<arr[j]:\n",
    "            arr[j+1] = arr[j]\n",
    "            j-=1\n",
    "        arr[j+1] = key\n",
    "arr = [12,11,13,5,6]\n",
    "insertionSort(arr)\n",
    "print(arr)"
   ]
  },
  {
   "cell_type": "code",
   "execution_count": 2,
   "id": "ad574bd2",
   "metadata": {},
   "outputs": [
    {
     "name": "stdout",
     "output_type": "stream",
     "text": [
      "the array after sorting in ascending order by selction sort is: \n",
      "[-202, -97, -9, -2, 0, 11, 45, 88, 747]\n"
     ]
    }
   ],
   "source": [
    "#selection sort\n",
    "def sectionsort(array,size):\n",
    "    for ind in range(size):\n",
    "        min_index = ind\n",
    "        for j in range(ind+1,size):\n",
    "            if array[j] < arr[min_index]:\n",
    "                min_index = j\n",
    "        (array[ind] , array[min_index]) = (array[min_index] , array[ind])\n",
    "        \n",
    "arr = [-2,45,0,11,-9,88,-97,-202,747]\n",
    "size = len(arr)\n",
    "sectionsort(arr,size)\n",
    "print(\"the array after sorting in ascending order by selction sort is: \")\n",
    "print(arr)"
   ]
  }
 ],
 "metadata": {
  "kernelspec": {
   "display_name": "Python 3 (ipykernel)",
   "language": "python",
   "name": "python3"
  },
  "language_info": {
   "codemirror_mode": {
    "name": "ipython",
    "version": 3
   },
   "file_extension": ".py",
   "mimetype": "text/x-python",
   "name": "python",
   "nbconvert_exporter": "python",
   "pygments_lexer": "ipython3",
   "version": "3.9.13"
  }
 },
 "nbformat": 4,
 "nbformat_minor": 5
}
