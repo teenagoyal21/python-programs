{
 "cells": [
  {
   "cell_type": "code",
   "execution_count": 1,
   "id": "485eb653",
   "metadata": {},
   "outputs": [
    {
     "name": "stdout",
     "output_type": "stream",
     "text": [
      "4\n",
      "      1 \n",
      "    2 3 2 \n",
      "  3 4 5 4 3 \n",
      "4 5 6 7 6 5 4 \n"
     ]
    }
   ],
   "source": [
    "n = int(input())\n",
    "i=1\n",
    "while i<=n:\n",
    "    spaces = 1\n",
    "    while spaces <= n-i:\n",
    "        print(\" \", end = \" \")\n",
    "        spaces+=1\n",
    "    j=1\n",
    "    valtoprint = i\n",
    "    while j<=i:\n",
    "        print(valtoprint,end=\" \")\n",
    "        valtoprint+=1\n",
    "        j+=1\n",
    "    j=1\n",
    "    valtoprint=2*i-2\n",
    "    while j<=i-1:\n",
    "        print(valtoprint,end=\" \")\n",
    "        valtoprint-=1\n",
    "        j+=1\n",
    "    print()\n",
    "    i+=1"
   ]
  },
  {
   "cell_type": "code",
   "execution_count": 2,
   "id": "d7c7de30",
   "metadata": {},
   "outputs": [
    {
     "name": "stdout",
     "output_type": "stream",
     "text": [
      "4\n",
      "    1\n",
      "   222\n",
      "  33324\n",
      " 4444246\n"
     ]
    }
   ],
   "source": [
    "n = int(input())\n",
    "for i in range(1,n+1):\n",
    "    for j in range(0,n-i+1):\n",
    "        print(end=\" \")\n",
    "    for j in range(i,0,-1):\n",
    "        print(i,end = \"\")\n",
    "    for j in range(2,i+1):\n",
    "        print(2*j-2,end = \"\")\n",
    "        j+=1\n",
    "    print()\n",
    "    i+=1"
   ]
  },
  {
   "cell_type": "code",
   "execution_count": 3,
   "id": "a4afc761",
   "metadata": {},
   "outputs": [
    {
     "name": "stdout",
     "output_type": "stream",
     "text": [
      "0\n",
      "3\n"
     ]
    }
   ],
   "source": [
    "list1 = []\n",
    "print(len(list1))\n",
    "list2 = [10,20,30]\n",
    "print(len(list2))"
   ]
  },
  {
   "cell_type": "code",
   "execution_count": 4,
   "id": "9acd0d46",
   "metadata": {},
   "outputs": [
    {
     "name": "stdout",
     "output_type": "stream",
     "text": [
      "initial blank list: []\n",
      "\n",
      "list after addition of three elements: [1, 2, 3, 4]\n",
      "['teena goyal', ['xyz']]\n"
     ]
    }
   ],
   "source": [
    "#append\n",
    "list = []\n",
    "print(\"initial blank list:\",list)\n",
    "list.append(1)\n",
    "list.append(2)\n",
    "list.append(3)\n",
    "list.append(4)\n",
    "print(\"\\nlist after addition of three elements:\",list)\n",
    "\n",
    "list1 = ['teena goyal']\n",
    "list2 = ['xyz']\n",
    "list1.append(list2)\n",
    "print(list1)"
   ]
  },
  {
   "cell_type": "code",
   "execution_count": 5,
   "id": "70383e08",
   "metadata": {},
   "outputs": [
    {
     "name": "stdout",
     "output_type": "stream",
     "text": [
      "initial lis is:  [1, 3, 4, 2]\n",
      "after inserting:  ['abc', 'xyz', 12, 1, 3, 4, 2]\n"
     ]
    }
   ],
   "source": [
    "#insert\n",
    "list = [1,3,4,2]\n",
    "print(\"initial lis is: \", list)\n",
    "list.insert(0,12)\n",
    "list.insert(0,'xyz')\n",
    "list.insert(0,'abc')\n",
    "print(\"after inserting: \",list)"
   ]
  },
  {
   "cell_type": "code",
   "execution_count": 6,
   "id": "f75d430f",
   "metadata": {},
   "outputs": [
    {
     "name": "stdout",
     "output_type": "stream",
     "text": [
      "initial list: [1, 2, 3, 4]\n",
      "list after extending: [1, 2, 3, 4, 12, 'xyz']\n"
     ]
    }
   ],
   "source": [
    "#extend: for inserting a list in another list \n",
    "list = [1,2,3,4]\n",
    "print(\"initial list:\", list)\n",
    "list.extend([12,\"xyz\"])\n",
    "print(\"list after extending:\", list)"
   ]
  },
  {
   "cell_type": "code",
   "execution_count": 7,
   "id": "d4ae867a",
   "metadata": {},
   "outputs": [
    {
     "name": "stdout",
     "output_type": "stream",
     "text": [
      "initial list: [1, 2, 3, 4, 5, 6, 7, 8, 9, 10]\n",
      "list after removing: [10]\n"
     ]
    }
   ],
   "source": [
    "#remove\n",
    "list = [1,2,3,4,5,6,7,8,9,10]\n",
    "print(\"initial list:\", list)\n",
    "for i in range(1,10):\n",
    "    list.remove(i)\n",
    "print(\"list after removing:\",list)"
   ]
  },
  {
   "cell_type": "code",
   "execution_count": 8,
   "id": "fa7e8c94",
   "metadata": {},
   "outputs": [
    {
     "name": "stdout",
     "output_type": "stream",
     "text": [
      "Enter a number: 1634\n",
      "Given number is not armstrong! \n"
     ]
    }
   ],
   "source": [
    "#Armstrong = 371 = 3*3+7*3+1*3=371 \n",
    "n = int(input(\"Enter a number: \"))\n",
    "sum = 0\n",
    "num1 = n\n",
    "while n > 0:\n",
    "    digit = n % 10\n",
    "    sum += digit**3\n",
    "    n //= 10\n",
    "if sum==num1:\n",
    "    print(\"Given number is armstrong! \")\n",
    "else:\n",
    "    print(\"Given number is not armstrong! \")"
   ]
  },
  {
   "cell_type": "code",
   "execution_count": 9,
   "id": "565ddbd9",
   "metadata": {},
   "outputs": [
    {
     "name": "stdout",
     "output_type": "stream",
     "text": [
      "145\n",
      "3\n"
     ]
    }
   ],
   "source": [
    "n = int(input())\n",
    "l = len(str(n))\n",
    "print(l)"
   ]
  },
  {
   "cell_type": "code",
   "execution_count": 10,
   "id": "63b7648d",
   "metadata": {},
   "outputs": [
    {
     "name": "stdout",
     "output_type": "stream",
     "text": [
      "Enter a number: 371\n",
      "Given number is armstrong!\n"
     ]
    }
   ],
   "source": [
    "n = int(input(\"Enter a number: \"))\n",
    "sum = 0\n",
    "num1 = n\n",
    "l = len(str(n))\n",
    "while n > 0:\n",
    "    digit = n % 10\n",
    "    #sum += digit**l\n",
    "    sum += pow(digit,l)\n",
    "    n //= 10\n",
    "if sum==num1:\n",
    "    print(\"Given number is armstrong!\")\n",
    "else:\n",
    "    print(\"Given number is not armstrong!\")"
   ]
  },
  {
   "cell_type": "code",
   "execution_count": 11,
   "id": "bbc32b5c",
   "metadata": {},
   "outputs": [
    {
     "name": "stdout",
     "output_type": "stream",
     "text": [
      "8\n"
     ]
    }
   ],
   "source": [
    "l = pow(2,3)\n",
    "print(l)"
   ]
  },
  {
   "cell_type": "code",
   "execution_count": 12,
   "id": "356f6ee8",
   "metadata": {},
   "outputs": [
    {
     "name": "stdout",
     "output_type": "stream",
     "text": [
      "1\n",
      "10\n",
      "2\n",
      "3\n",
      "5\n",
      "7\n"
     ]
    }
   ],
   "source": [
    "#to check prime numbers in a given range\n",
    "lower = int(input())\n",
    "upper = int(input())\n",
    "for num in range(lower,upper+1):\n",
    "    if num > 1:\n",
    "        for i in range(2, num):\n",
    "            if(num%i)==0:\n",
    "                break\n",
    "        else:\n",
    "            print(num)"
   ]
  },
  {
   "cell_type": "code",
   "execution_count": 13,
   "id": "ce22e956",
   "metadata": {},
   "outputs": [
    {
     "name": "stdout",
     "output_type": "stream",
     "text": [
      "1\n",
      "10\n",
      "2\n",
      "3\n",
      "5\n",
      "7\n"
     ]
    }
   ],
   "source": [
    "#to check prime numbers in a given range\n",
    "lower = int(input())\n",
    "upper = int(input())\n",
    "for num in range(lower,upper+1):\n",
    "    if num > 1:\n",
    "        for i in range(2, num):\n",
    "            \n",
    "            if(num%i)==0:\n",
    "                break\n",
    "        else:\n",
    "            print(num)\n",
    "            \n",
    "    "
   ]
  },
  {
   "cell_type": "code",
   "execution_count": 14,
   "id": "8f3d4d19",
   "metadata": {},
   "outputs": [
    {
     "name": "stdout",
     "output_type": "stream",
     "text": [
      "100\n",
      "25\n"
     ]
    }
   ],
   "source": [
    "def count_prime_numbers(n):\n",
    "    ctr = 0\n",
    "    for num in range(1,n):\n",
    "        if num <= 1:\n",
    "            continue\n",
    "        for i in range(2,num):\n",
    "            if(num%i)==0:\n",
    "                break\n",
    "        else:\n",
    "            ctr+=1\n",
    "            \n",
    "    return ctr\n",
    "\n",
    "print(count_prime_numbers(int(input())))\n"
   ]
  },
  {
   "cell_type": "code",
   "execution_count": 15,
   "id": "93cec353",
   "metadata": {},
   "outputs": [
    {
     "name": "stdout",
     "output_type": "stream",
     "text": [
      "10\n",
      "3025\n"
     ]
    }
   ],
   "source": [
    "#write a python program to print cube sum of first n natural numbers\n",
    "n = int(input())\n",
    "s = 0\n",
    "for i in range(1,n+1):\n",
    "    s = s+i**3\n",
    "print(s)"
   ]
  },
  {
   "cell_type": "code",
   "execution_count": 16,
   "id": "f56c434d",
   "metadata": {},
   "outputs": [
    {
     "name": "stdout",
     "output_type": "stream",
     "text": [
      "1\n",
      "10\n",
      "1\n",
      "3\n",
      "5\n",
      "7\n",
      "9\n",
      "1\n",
      "10\n",
      "2\n",
      "4\n",
      "6\n",
      "8\n",
      "10\n"
     ]
    }
   ],
   "source": [
    "#write a python program to print all odd number and even numbers from a given range\n",
    "lower = int(input())\n",
    "upper = int(input())\n",
    "for i in range(lower,upper+1):\n",
    "    if i%2!=0:\n",
    "        print(i)\n",
    "\n",
    "        \n",
    "lower1 = int(input())\n",
    "upper1 = int(input())\n",
    "for x in range(lower1,upper1+1):\n",
    "    if x%2==0:\n",
    "        print(x)"
   ]
  },
  {
   "cell_type": "code",
   "execution_count": 17,
   "id": "3fae9258",
   "metadata": {},
   "outputs": [
    {
     "name": "stdout",
     "output_type": "stream",
     "text": [
      "1\n",
      "10\n",
      "2\n",
      "4\n",
      "6\n",
      "8\n",
      "10\n"
     ]
    }
   ],
   "source": [
    "lower = int(input())\n",
    "upper = int(input())\n",
    "for i in range(lower,upper+1):\n",
    "    if i%2==0:\n",
    "        print(i)"
   ]
  },
  {
   "cell_type": "code",
   "execution_count": 21,
   "id": "b29410e9",
   "metadata": {},
   "outputs": [
    {
     "name": "stdout",
     "output_type": "stream",
     "text": [
      "[24, 35, 9, 56, 12]\n"
     ]
    }
   ],
   "source": [
    "#write a python program to interchange first and last elements in a list\n",
    "def swap_list(newlist):\n",
    "    size = len(newlist)\n",
    "    \n",
    "    temp = newlist[0]\n",
    "    newlist[0] = newlist[size-1]\n",
    "    newlist[size-1] = temp\n",
    "    \n",
    "    return newlist\n",
    "\n",
    "newlist = [12,35,9,56,24]\n",
    "print(swap_list(newlist))"
   ]
  },
  {
   "cell_type": "code",
   "execution_count": 22,
   "id": "78bf1121",
   "metadata": {},
   "outputs": [
    {
     "name": "stdout",
     "output_type": "stream",
     "text": [
      "[45, 11, 2, 34, 12]\n"
     ]
    }
   ],
   "source": [
    "list1 = [12,11,2,34,45]\n",
    "def swapList(list1):\n",
    "    n = len(list1)\n",
    "    \n",
    "    temp = list1[0]\n",
    "    list1[0] = list1[n-1]\n",
    "    list1[n-1] = temp\n",
    "    \n",
    "    return list1\n",
    "\n",
    "print(swapList(list1))\n"
   ]
  },
  {
   "cell_type": "code",
   "execution_count": 25,
   "id": "6f78c591",
   "metadata": {},
   "outputs": [
    {
     "name": "stdout",
     "output_type": "stream",
     "text": [
      "sum of elements in list is: 20\n"
     ]
    }
   ],
   "source": [
    "#write a program to print sum of elements in a list\n",
    "list = [11,2,3,4]\n",
    "total = 0\n",
    "for i in range(0,len(list)):\n",
    "    total = total + list[i]\n",
    "print(\"sum of elements in list is:\",total)"
   ]
  },
  {
   "cell_type": "code",
   "execution_count": 26,
   "id": "7ca21e2c",
   "metadata": {},
   "outputs": [
    {
     "name": "stdout",
     "output_type": "stream",
     "text": [
      "3\n",
      "no .10 is NOT a fibonacci number\n"
     ]
    }
   ],
   "source": [
    "#write a python program to check if a given number is fibonacci number\n",
    "n = int(input())\n",
    "temp = 1\n",
    "k = 0\n",
    "a = 0\n",
    "sum = 0\n",
    "while sum <= num:\n",
    "    sum = temp + k\n",
    "    temp = sum\n",
    "    k = temp\n",
    "    if sum==num:\n",
    "        a =a+1\n",
    "        print(\"yes .{} is a fibonacci number\".format(num))\n",
    "        break\n",
    "if a==0:\n",
    "    print(\"no .{} is NOT a fibonacci number\".format(num))"
   ]
  },
  {
   "cell_type": "code",
   "execution_count": 5,
   "id": "c168fcae",
   "metadata": {},
   "outputs": [
    {
     "name": "stdout",
     "output_type": "stream",
     "text": [
      "1 2 1 2 "
     ]
    }
   ],
   "source": [
    "i=1\n",
    "while i<3:\n",
    "    j=1\n",
    "    while j<5:\n",
    "        if j==3:\n",
    "            break\n",
    "        print(j,end=\" \")\n",
    "        j = j + 1\n",
    "    i+=1\n",
    "    \n"
   ]
  },
  {
   "cell_type": "code",
   "execution_count": null,
   "id": "625452cf",
   "metadata": {},
   "outputs": [],
   "source": [
    "i=1\n",
    "while i<5:\n",
    "    if i == 6:\n",
    "        break\n",
    "    print(i,end=\" \")\n",
    "    i = i + 1\n",
    "else:\n",
    "    print(“Else is also printed”);\n"
   ]
  },
  {
   "cell_type": "code",
   "execution_count": 2,
   "id": "cb77f5c4",
   "metadata": {},
   "outputs": [
    {
     "name": "stdout",
     "output_type": "stream",
     "text": [
      "5\n",
      "true\n"
     ]
    }
   ],
   "source": [
    "#fibonacci \n",
    "n = int(input())\n",
    "c=0\n",
    "a=1\n",
    "b=1\n",
    "while c<n:\n",
    "    c=a+b\n",
    "    a=b\n",
    "    b=c\n",
    "if c==n:\n",
    "    print(\"true\")\n",
    "else:\n",
    "    print(\"false\")"
   ]
  },
  {
   "cell_type": "code",
   "execution_count": 6,
   "id": "49c78cbc",
   "metadata": {},
   "outputs": [
    {
     "name": "stdout",
     "output_type": "stream",
     "text": [
      "4\n",
      "1\n",
      "2\n",
      "3\n",
      "4\n",
      "[1, 2, 3, 4]\n",
      "100\n"
     ]
    }
   ],
   "source": [
    "#to print the sum of given elements in an list \n",
    "listt = []\n",
    "n = int(input())\n",
    "for i in range(n):\n",
    "    y = int(input())\n",
    "    listt.append(y)\n",
    "print(listt)\n",
    "sum=0\n",
    "for j in listt:\n",
    "    sum+=j**3\n",
    "print(sum)\n"
   ]
  },
  {
   "cell_type": "code",
   "execution_count": null,
   "id": "6017d412",
   "metadata": {},
   "outputs": [],
   "source": [
    "n = int(input())\n",
    "c=0\n",
    "a=1\n",
    "b=1\n",
    "while c<n:\n",
    "    c=a+b\n",
    "    a=b\n",
    "    b=c\n",
    "if c==n:\n",
    "    print(\"true\")\n",
    "else:\n",
    "    print(\"false\")\n"
   ]
  },
  {
   "cell_type": "code",
   "execution_count": 6,
   "id": "1c8a175f",
   "metadata": {},
   "outputs": [
    {
     "name": "stdout",
     "output_type": "stream",
     "text": [
      "[3, 5, 6, 7, 8, 9]\n"
     ]
    }
   ],
   "source": [
    "list1 = [9,5,6,7,3,8]\n",
    "list1.sort()\n",
    "print(list1)"
   ]
  },
  {
   "cell_type": "code",
   "execution_count": 10,
   "id": "fc835663",
   "metadata": {},
   "outputs": [
    {
     "name": "stdout",
     "output_type": "stream",
     "text": [
      "teena\n",
      "5\n"
     ]
    }
   ],
   "source": []
  }
 ],
 "metadata": {
  "kernelspec": {
   "display_name": "Python 3 (ipykernel)",
   "language": "python",
   "name": "python3"
  },
  "language_info": {
   "codemirror_mode": {
    "name": "ipython",
    "version": 3
   },
   "file_extension": ".py",
   "mimetype": "text/x-python",
   "name": "python",
   "nbconvert_exporter": "python",
   "pygments_lexer": "ipython3",
   "version": "3.9.13"
  }
 },
 "nbformat": 4,
 "nbformat_minor": 5
}
