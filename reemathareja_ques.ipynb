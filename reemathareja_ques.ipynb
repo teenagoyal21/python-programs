{
 "cells": [
  {
   "cell_type": "code",
   "execution_count": 6,
   "id": "f70249ee",
   "metadata": {},
   "outputs": [
    {
     "name": "stdout",
     "output_type": "stream",
     "text": [
      "press any key: %\n",
      "entered key is a symbol\n"
     ]
    }
   ],
   "source": [
    "#to determine the character entered by the user \n",
    "char = input(\"press any key: \")\n",
    "if(char.isalpha()):\n",
    "    print(\"entered key is a character\")\n",
    "elif(char.isdigit()):\n",
    "    print(\"entered key is a digit\")\n",
    "elif(char.isspace()):\n",
    "    print(\"entered key is a white space character\")\n",
    "else:\n",
    "    print(\"entered key is a symbol\")"
   ]
  },
  {
   "cell_type": "code",
   "execution_count": 13,
   "id": "55773ad3",
   "metadata": {},
   "outputs": [
    {
     "name": "stdout",
     "output_type": "stream",
     "text": [
      "10\n",
      "11\n"
     ]
    }
   ],
   "source": [
    "#to print a incremented digit if and only if it is positive\n",
    "x=int(input())\n",
    "if(x>0):\n",
    "    print(x+1)"
   ]
  },
  {
   "cell_type": "code",
   "execution_count": 17,
   "id": "746a86e5",
   "metadata": {},
   "outputs": [
    {
     "name": "stdout",
     "output_type": "stream",
     "text": [
      "13\n",
      "You have to wait for 5 years to vote!!\n"
     ]
    }
   ],
   "source": [
    "#to know the eligibility for voting and tym to left for voting\n",
    "age = int(input())\n",
    "if age>=18:\n",
    "    print(\"You are eligible for voting!!!\")\n",
    "else:\n",
    "    yrs = 18-age\n",
    "    print(\"You have to wait for\",yrs,\"years to vote!!\")"
   ]
  },
  {
   "cell_type": "code",
   "execution_count": 18,
   "id": "26ec111a",
   "metadata": {},
   "outputs": [
    {
     "name": "stdout",
     "output_type": "stream",
     "text": [
      "2\n",
      "-1\n",
      "larger is 2\n"
     ]
    }
   ],
   "source": [
    "#program to find larger of two numbers \n",
    "a = int(input())\n",
    "b = int(input())\n",
    "if a>b:\n",
    "    large = a\n",
    "else:\n",
    "    large = b\n",
    "print(\"larger is\",large)"
   ]
  },
  {
   "cell_type": "code",
   "execution_count": 41,
   "id": "13b6623a",
   "metadata": {},
   "outputs": [
    {
     "name": "stdout",
     "output_type": "stream",
     "text": [
      "enter any character: t\n",
      "The upper case of the entered character is T\n"
     ]
    }
   ],
   "source": [
    "#conversions lower to upper and upper to lower\n",
    "ch = input(\"enter any character: \")\n",
    "if ch>='A' and ch<='Z':\n",
    "    ch = ch.lower()\n",
    "    print(\"The lower case of the entered character is\",ch)\n",
    "else:\n",
    "    ch = ch.upper()\n",
    "    print(\"The upper case of the entered character is\",ch)"
   ]
  },
  {
   "cell_type": "code",
   "execution_count": 44,
   "id": "58acd85f",
   "metadata": {},
   "outputs": [
    {
     "name": "stdout",
     "output_type": "stream",
     "text": [
      "enter a year: 2000\n",
      "it's a leap year!!!\n"
     ]
    }
   ],
   "source": [
    "#to know whether the entered year is a leap year or not\n",
    "year = int(input(\"enter a year: \"))\n",
    "if ((year%4==0 and year%100==0) or (year%400==0)):\n",
    "    print(\"it's a leap year!!!\")\n",
    "else:\n",
    "    print(\"NO LEAP YEAR\")"
   ]
  },
  {
   "cell_type": "code",
   "execution_count": 3,
   "id": "993b059c",
   "metadata": {},
   "outputs": [
    {
     "name": "stdout",
     "output_type": "stream",
     "text": [
      "Enter a number!: 5\n",
      "the sum of the following series till n = 5 is 701.0\n"
     ]
    }
   ],
   "source": [
    "# to print the sum of series 1/1+2^2/2+3^3/3+____+n^n/n\n",
    "n = int(input(\"Enter a number!: \"))\n",
    "sum = 0\n",
    "for i in range(1,n+1):\n",
    "    a = (i**i)/i\n",
    "    sum+=a\n",
    "print(\"the sum of the following series till n =\",n,\"is\",sum)"
   ]
  },
  {
   "cell_type": "code",
   "execution_count": 12,
   "id": "2c6a8b26",
   "metadata": {},
   "outputs": [
    {
     "name": "stdout",
     "output_type": "stream",
     "text": [
      "Enter the number: 5\n",
      "the sum of the series 1/2 + 2/3 + n/(n+1) is: 3.5500000000000003\n"
     ]
    }
   ],
   "source": [
    "#to print the sum of series 1/2 + 2/3 + -----+ n/n+1\n",
    "n = int(input(\"Enter the number: \"))\n",
    "sum = 0\n",
    "for i in range(1,n+1):\n",
    "    a = (i)/(i+1)\n",
    "    sum+=a\n",
    "print(\"the sum of the series 1/2 + 2/3 + n/(n+1) is:\",sum)"
   ]
  },
  {
   "cell_type": "code",
   "execution_count": 3,
   "id": "17fa76a8",
   "metadata": {},
   "outputs": [
    {
     "name": "stdout",
     "output_type": "stream",
     "text": [
      "1\n",
      "2\n"
     ]
    }
   ],
   "source": [
    "i = 1\n",
    "while True:\n",
    "    if i%3 == 0:\n",
    "        break\n",
    "    print(i)\n",
    " \n",
    "    i += 1"
   ]
  },
  {
   "cell_type": "code",
   "execution_count": 14,
   "id": "6f4b5a44",
   "metadata": {},
   "outputs": [
    {
     "data": {
      "text/plain": [
       "18446744073709551616"
      ]
     },
     "execution_count": 14,
     "metadata": {},
     "output_type": "execute_result"
    }
   ],
   "source": [
    "2**2**6"
   ]
  }
 ],
 "metadata": {
  "kernelspec": {
   "display_name": "Python 3 (ipykernel)",
   "language": "python",
   "name": "python3"
  },
  "language_info": {
   "codemirror_mode": {
    "name": "ipython",
    "version": 3
   },
   "file_extension": ".py",
   "mimetype": "text/x-python",
   "name": "python",
   "nbconvert_exporter": "python",
   "pygments_lexer": "ipython3",
   "version": "3.9.13"
  }
 },
 "nbformat": 4,
 "nbformat_minor": 5
}
