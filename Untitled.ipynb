{
 "cells": [
  {
   "cell_type": "code",
   "execution_count": 4,
   "id": "846aff16",
   "metadata": {},
   "outputs": [
    {
     "name": "stdout",
     "output_type": "stream",
     "text": [
      "2\n",
      "3\n",
      "4\n",
      "5\n",
      "6\n",
      "[2, 3, 4, 5, 6]\n",
      "1\n",
      "False\n"
     ]
    }
   ],
   "source": [
    "alist = []\n",
    "for i in range(5):\n",
    "    y=int(input())\n",
    "    alist.append(y)\n",
    "print(alist)\n",
    "n=int(input())\n",
    "if n in alist:\n",
    "    print(\"true\")\n",
    "else:\n",
    "    print(\"False\")"
   ]
  },
  {
   "cell_type": "code",
   "execution_count": 11,
   "id": "84b93e4d",
   "metadata": {},
   "outputs": [
    {
     "name": "stdout",
     "output_type": "stream",
     "text": [
      "2\n",
      "prime\n"
     ]
    }
   ],
   "source": [
    "n=int(input())\n",
    "for i in range(2,n,1):\n",
    "    if n%i==0:\n",
    "        print(\"not prime\")\n",
    "else:\n",
    "    print(\"prime\")\n",
    "    "
   ]
  },
  {
   "cell_type": "code",
   "execution_count": 12,
   "id": "11df5147",
   "metadata": {},
   "outputs": [
    {
     "name": "stdout",
     "output_type": "stream",
     "text": [
      "enter record2 6 4 8 5\n",
      "enter key to search for: 5\n",
      "5 at 4\n"
     ]
    }
   ],
   "source": [
    "#binary search\n",
    "def binary_search(alist,key):\n",
    "    start=0\n",
    "    end=len(alist)\n",
    "    while start<end:\n",
    "        mid = (start+end)//2\n",
    "        if alist[mid]>key:\n",
    "            end=mid\n",
    "        elif alist[mid]<key:\n",
    "            start=mid+1\n",
    "        else:\n",
    "            return mid\n",
    "    return -1\n",
    "alist = input(\"enter record\")\n",
    "alist = alist.split()\n",
    "alist = [int(x) for x in alist]\n",
    "key=int(input(\"enter key to search for: \"))\n",
    "index = binary_search(alist,key)\n",
    "if index<0:\n",
    "    print(key,\"not found\")\n",
    "else:\n",
    "    print(key,\"at\",index)"
   ]
  },
  {
   "cell_type": "code",
   "execution_count": 14,
   "id": "204c7b82",
   "metadata": {},
   "outputs": [
    {
     "name": "stdout",
     "output_type": "stream",
     "text": [
      "1 2 5 6 3 \n",
      "[1, 2, 5, 6, 3]\n"
     ]
    }
   ],
   "source": [
    "alist = input()\n",
    "alist=alist.split()\n",
    "alist = [int(x) for x in alist]\n",
    "print(alist)"
   ]
  },
  {
   "cell_type": "code",
   "execution_count": 16,
   "id": "fb9fb8f9",
   "metadata": {},
   "outputs": [
    {
     "name": "stdout",
     "output_type": "stream",
     "text": [
      "2\n"
     ]
    }
   ],
   "source": [
    "a = [2,3,4,5,6]\n",
    "l=a.index(4,0,3)  #element between 0 and 3rd index\n",
    "print(l)"
   ]
  },
  {
   "cell_type": "code",
   "execution_count": 23,
   "id": "5f89bbbf",
   "metadata": {},
   "outputs": [
    {
     "name": "stdout",
     "output_type": "stream",
     "text": [
      "brown\n",
      "False\n"
     ]
    }
   ],
   "source": [
    "#colors\n",
    "def colours(color,c):\n",
    "    if c in color:\n",
    "        return True\n",
    "    else:\n",
    "        return False\n",
    "color=[\"red\",\"white\",\"olive\",\"eda\",\"nice\",\"loi\"]\n",
    "c=input()\n",
    "print(colours(color,c))"
   ]
  },
  {
   "cell_type": "code",
   "execution_count": 33,
   "id": "db54ee08",
   "metadata": {},
   "outputs": [
    {
     "name": "stdout",
     "output_type": "stream",
     "text": [
      "rows required3\n",
      "columns required3\n",
      "7\n",
      "5\n",
      "4\n",
      "[[7, 5, 4]]\n",
      "9\n",
      "8\n",
      "6\n",
      "[[7, 5, 4], [9, 8, 6]]\n",
      "2\n",
      "4\n",
      "5\n",
      "[[7, 5, 4], [9, 8, 6], [2, 4, 5]]\n"
     ]
    }
   ],
   "source": [
    "#2d list input\n",
    "list1=[]\n",
    "r = int(input(\"rows required\"))\n",
    "c = int(input(\"columns required\"))\n",
    "for i in range(r):\n",
    "    row=[]\n",
    "    for j in range(c):\n",
    "        element = int(input())\n",
    "        row.append(element)\n",
    "    list1.append(row)\n",
    "    print(list1)"
   ]
  },
  {
   "cell_type": "code",
   "execution_count": 40,
   "id": "3a15ba56",
   "metadata": {},
   "outputs": [
    {
     "name": "stdout",
     "output_type": "stream",
     "text": [
      "a\n",
      "A\n"
     ]
    }
   ],
   "source": [
    "#to covert to low\n",
    "string = input()\n",
    "if string>'A' and string<'Z':\n",
    "    string=string.lower()\n",
    "else:\n",
    "    string = string.upper()\n",
    "print(string)"
   ]
  },
  {
   "cell_type": "code",
   "execution_count": 49,
   "id": "8f2ee28d",
   "metadata": {},
   "outputs": [
    {
     "name": "stdout",
     "output_type": "stream",
     "text": [
      "TeenA\n",
      "3\n",
      "2\n"
     ]
    }
   ],
   "source": [
    "string = input()\n",
    "count=0\n",
    "for i in string:\n",
    "    if (i.islower()):\n",
    "        count=count+1\n",
    "print(count)\n",
    "count1=0\n",
    "for j in string:\n",
    "    if (j.isupper()):\n",
    "        count1=count1+1\n",
    "print(count1)"
   ]
  },
  {
   "cell_type": "code",
   "execution_count": 2,
   "id": "6cec6878",
   "metadata": {},
   "outputs": [
    {
     "name": "stdout",
     "output_type": "stream",
     "text": [
      "[114, 160, 60]\n",
      "[74, 97, 73]\n",
      "[119, 157, 112]\n"
     ]
    }
   ],
   "source": [
    "#multiplication of matrices\n",
    "X = [[12,7,3],\n",
    "    [4,5,6],\n",
    "    [7,8,9]]\n",
    "Y = [[5,8,1],\n",
    "    [6,7,3],\n",
    "    [4,5,9]]\n",
    "result = [[0,0,0],\n",
    "         [0,0,0],\n",
    "         [0,0,0]]\n",
    "for i in range(len(X)):\n",
    "    for j in range(len(Y[0])):\n",
    "        for k in range(len(Y)):\n",
    "            result[i][j] += X[i][k] * Y[k][j]\n",
    "for r in result:\n",
    "    print(r)"
   ]
  },
  {
   "cell_type": "code",
   "execution_count": 28,
   "id": "1a480f37",
   "metadata": {},
   "outputs": [
    {
     "name": "stdout",
     "output_type": "stream",
     "text": [
      "e\n",
      "1\n"
     ]
    }
   ],
   "source": [
    "#string input index\n",
    "string1 = \"teena\"\n",
    "print(string1[1])\n",
    "\n",
    "print(string1.index('e'))"
   ]
  },
  {
   "cell_type": "code",
   "execution_count": 16,
   "id": "1eeb5728",
   "metadata": {},
   "outputs": [
    {
     "name": "stdout",
     "output_type": "stream",
     "text": [
      "examination\n",
      "xaminatione\n"
     ]
    }
   ],
   "source": [
    "#swap\n",
    "string=input()\n",
    "start = string[0]\n",
    "new_string = string[1:-1]+string[-1] + start\n",
    "print(new_string)"
   ]
  },
  {
   "cell_type": "code",
   "execution_count": 2,
   "id": "8e7540ac",
   "metadata": {},
   "outputs": [
    {
     "name": "stdout",
     "output_type": "stream",
     "text": [
      "1 2 3 4 5 6\n",
      "4\n",
      "4 present at 3\n"
     ]
    }
   ],
   "source": [
    "#index\n",
    "def binary_search(alist,key):\n",
    "    start=0\n",
    "    end=len(alist)\n",
    "    while start<end:\n",
    "        mid=(start+end)//2\n",
    "        if alist[mid]>key:\n",
    "            end=mid\n",
    "        elif alist[mid]<key:\n",
    "            start=mid+1\n",
    "        else:\n",
    "            return mid\n",
    "    return -1\n",
    "alist=input()\n",
    "alist=alist.split()\n",
    "alist=[int(x) for x in alist]\n",
    "key=int(input())\n",
    "index=binary_search(alist,key)\n",
    "if index<0:\n",
    "    print(key,\"not present\")\n",
    "else:\n",
    "    print(key,\"present at\",index)"
   ]
  },
  {
   "cell_type": "code",
   "execution_count": 11,
   "id": "18e91735",
   "metadata": {},
   "outputs": [
    {
     "name": "stdout",
     "output_type": "stream",
     "text": [
      "3443\n",
      "true\n"
     ]
    }
   ],
   "source": [
    "s=int(input())\n",
    "m=str(s)\n",
    "b=m[::-1]\n",
    "if b==m:\n",
    "    print(\"true\")\n",
    "else:\n",
    "    print(\"false\")"
   ]
  },
  {
   "cell_type": "code",
   "execution_count": null,
   "id": "2c7dcd23",
   "metadata": {},
   "outputs": [
    {
     "name": "stdout",
     "output_type": "stream",
     "text": [
      "Enter a number: 371\n"
     ]
    }
   ],
   "source": [
    "# Armstrong = 371 = 3*3+7*3+1*3=371 \n",
    "n = int(input(\"Enter a number: \"))\n",
    "sum = 0\n",
    "num1 = n\n",
    "while n > 0:\n",
    "    digit = n % 10\n",
    "    sum += digit**3\n",
    "    num1 //= 10\n",
    "if num1==sum:\n",
    "    print(\"Given number is armstrong! \")\n",
    "else:\n",
    "    print(\"Given number is not armstrong! \")"
   ]
  },
  {
   "cell_type": "code",
   "execution_count": 10,
   "id": "38e449d5",
   "metadata": {},
   "outputs": [
    {
     "name": "stdout",
     "output_type": "stream",
     "text": [
      "2\n",
      "prime number\n"
     ]
    }
   ],
   "source": [
    "#prime number\n",
    "n = int(input())\n",
    "for i in range(2,n):\n",
    "    if n%i==0:\n",
    "        print(\"not a prime\")\n",
    "        break\n",
    "else:\n",
    "    print(\"prime number\")"
   ]
  },
  {
   "cell_type": "code",
   "execution_count": null,
   "id": "cb9e72fc",
   "metadata": {},
   "outputs": [
    {
     "name": "stdout",
     "output_type": "stream",
     "text": [
      "3\n"
     ]
    }
   ],
   "source": [
    "def fact(n):\n",
    "    if n==0 and n==1:\n",
    "        return 1\n",
    "    else:\n",
    "        return n*fact(n-1)\n",
    "n = int(input())\n",
    "fact(n)\n",
    "print(fact(n))"
   ]
  },
  {
   "cell_type": "code",
   "execution_count": 14,
   "id": "1d267686",
   "metadata": {},
   "outputs": [
    {
     "name": "stdout",
     "output_type": "stream",
     "text": [
      "33\n",
      "its a odd number\n"
     ]
    }
   ],
   "source": [
    "n = int(input())\n",
    "if "
   ]
  }
 ],
 "metadata": {
  "kernelspec": {
   "display_name": "Python 3 (ipykernel)",
   "language": "python",
   "name": "python3"
  },
  "language_info": {
   "codemirror_mode": {
    "name": "ipython",
    "version": 3
   },
   "file_extension": ".py",
   "mimetype": "text/x-python",
   "name": "python",
   "nbconvert_exporter": "python",
   "pygments_lexer": "ipython3",
   "version": "3.9.13"
  }
 },
 "nbformat": 4,
 "nbformat_minor": 5
}
