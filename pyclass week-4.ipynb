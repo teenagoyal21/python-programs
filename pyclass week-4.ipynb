{
 "cells": [
  {
   "cell_type": "code",
   "execution_count": 9,
   "id": "b1c68a00",
   "metadata": {},
   "outputs": [
    {
     "name": "stdout",
     "output_type": "stream",
     "text": [
      "dictionary with use of integer keys is:\n",
      "{1: 'hello', 2: 'how', 3: 'area'}\n",
      "\n",
      "dictionary with mixed keys:\n",
      "{'name': 'ram', 1: [1, 2, 3, 4]}\n"
     ]
    }
   ],
   "source": [
    "#creating a dictionary\n",
    "#with integer keys\n",
    "dict = {1:'hello', 2:'how', 3:'area'}\n",
    "print(\"dictionary with use of integer keys is:\")\n",
    "print(dict)\n",
    "#creating a dictionary\n",
    "#with mixed keys\n",
    "dect = {'name':'ram',1:[1,2,3,4]}\n",
    "print(\"\\ndictionary with mixed keys:\")\n",
    "print(dect)"
   ]
  },
  {
   "cell_type": "code",
   "execution_count": 1,
   "id": "b3547744",
   "metadata": {},
   "outputs": [
    {
     "name": "stdout",
     "output_type": "stream",
     "text": [
      "empty dictionary:\n",
      "<class 'dict'>\n",
      "\n",
      "dictionary with the use of direct dict():\n",
      "{1: 'ram', 2: 'shyam', 3: (1, 2, 3)}\n",
      "\n",
      "dictionary with each item as a pair \n",
      "{1: 'hello', 2: 'fine'}\n"
     ]
    }
   ],
   "source": [
    "#dictionary can also be created by the build-in function dict().\n",
    "#an empty dictionary can be created by just placing curly braces.\n",
    "Dict = {}\n",
    "print(\"empty dictionary:\")\n",
    "print(dict)\n",
    "#creating a dictionary\n",
    "#with dict() method\n",
    "Dict = dict({1:\"ram\",2:\"shyam\",3:(1,2,3)})\n",
    "print(\"\\ndictionary with the use of direct dict():\")\n",
    "print(Dict)\n",
    "#creating a dictionary with each item as a pair\n",
    "dict = dict({1:'hello',2:'fine'})\n",
    "print(\"\\ndictionary with each item as a pair \")\n",
    "print(dict)"
   ]
  },
  {
   "cell_type": "code",
   "execution_count": 3,
   "id": "0f79670b",
   "metadata": {},
   "outputs": [
    {
     "name": "stdout",
     "output_type": "stream",
     "text": [
      "{}\n",
      "{0: 'hello', 1: 'how', 2: 500}\n",
      "{0: 'hello', 1: 'how', 2: 500, 'value_set': (100, 200, 300)}\n"
     ]
    }
   ],
   "source": [
    "Dict = {}\n",
    "print(Dict)\n",
    "#adding elements one at tme to empty dictionary\n",
    "Dict[0] = 'hello'\n",
    "Dict[1] = 'how'\n",
    "Dict[2] = 500\n",
    "print(Dict)\n",
    "#adding set of values to a single key\n",
    "Dict['value_set'] = 100,200,300\n",
    "print(Dict)\n",
    "#updating existing keys to value \n",
    "Dict[0] = 'welcome'\n",
    "Dict[1] = 'to'"
   ]
  },
  {
   "cell_type": "code",
   "execution_count": 3,
   "id": "517df952",
   "metadata": {},
   "outputs": [
    {
     "name": "stdout",
     "output_type": "stream",
     "text": [
      "1\n",
      "()\n",
      "(1, 2, 3)\n",
      "(1, 'hello', 3, 4)\n",
      "('mouse', [8, 4, 6], (1, 2, 3))\n"
     ]
    }
   ],
   "source": [
    "#tupple(), order of element matters\n",
    "a=(1,2,3)\n",
    "print(a[0])\n",
    "#duplicate elements can be added to tupple\n",
    "#different types of tuples\n",
    "#empty tuple\n",
    "my_tuple = ()\n",
    "print(my_tuple)\n",
    "#tuple having integers\n",
    "my_tuple=(1,2,3)\n",
    "print(my_tuple)\n",
    "#tuple with mixed datatype\n",
    "my_tuple = (1,'hello',3,4)\n",
    "print(my_tuple)\n",
    "#nested tuple\n",
    "my_tuple = ('mouse',[8,4,6],(1,2,3))\n",
    "print(my_tuple)"
   ]
  },
  {
   "cell_type": "code",
   "execution_count": 4,
   "id": "b54c1cb0",
   "metadata": {},
   "outputs": [
    {
     "name": "stdout",
     "output_type": "stream",
     "text": [
      "(3, 4.6, 'dog')\n",
      "3\n",
      "4.6\n",
      "dog\n"
     ]
    }
   ],
   "source": [
    "#A tuple can also be created without using paranthesis\n",
    "#this is known as tuple packing.\n",
    "my_tuple = 3,4.6,'dog'\n",
    "print(my_tuple)\n",
    "#tuple packing is also possible\n",
    "a,b,c = my_tuple\n",
    "print(a)     #3\n",
    "print(b)     #4.6\n",
    "print(c)     #dog"
   ]
  },
  {
   "cell_type": "code",
   "execution_count": 5,
   "id": "e6751166",
   "metadata": {},
   "outputs": [
    {
     "name": "stdout",
     "output_type": "stream",
     "text": [
      "<class 'str'>\n",
      "<class 'tuple'>\n",
      "<class 'tuple'>\n"
     ]
    }
   ],
   "source": [
    "my_tuple = (\"hello\")\n",
    "print(type(my_tuple))  \n",
    "\n",
    "#creating a tuple having one element\n",
    "my_tuple = (\"hello\",)\n",
    "print(type(my_tuple))\n",
    "\n",
    "#parenthesis is optional\n",
    "my_tuple = \"hello\",\n",
    "print(type(my_tuple))"
   ]
  },
  {
   "cell_type": "code",
   "execution_count": 7,
   "id": "08140264",
   "metadata": {},
   "outputs": [
    {
     "name": "stdout",
     "output_type": "stream",
     "text": [
      "a\n",
      "f\n",
      "\n",
      "s\n",
      "4\n",
      "2\n",
      "3\n"
     ]
    }
   ],
   "source": [
    "#accessing tuple elements using indexing\n",
    "my_tuples = ('a','b','c','d','e','f','t')\n",
    "print(my_tuples[0])\n",
    "print(my_tuples[5])\n",
    "n_tuple = (\"mouse\",[8,4,6],(1,2,3))\n",
    "#nested index\n",
    "print()\n",
    "print(n_tuple[0][3])\n",
    "print(n_tuple[1][1])\n",
    "print(n_tuple[2][1])\n",
    "print(n_tuple[2][2])"
   ]
  },
  {
   "cell_type": "code",
   "execution_count": 12,
   "id": "9f8e8d50",
   "metadata": {},
   "outputs": [
    {
     "name": "stdout",
     "output_type": "stream",
     "text": [
      "('u', 'i', 'r')\n",
      "('p',)\n",
      "('h',)\n",
      "('p', 'u', 'i', 'r', 'y', 'e', 't', 'h')\n"
     ]
    }
   ],
   "source": [
    "#negative indexing for tuple\n",
    "my_tuple = ('p','u','i','r','y','e','t','h')\n",
    "print(my_tuple[1:4])\n",
    "print(my_tuple[:-7])\n",
    "print(my_tuple[7:])\n",
    "print(my_tuple[:])"
   ]
  },
  {
   "cell_type": "code",
   "execution_count": 3,
   "id": "19bffcd8",
   "metadata": {},
   "outputs": [
    {
     "name": "stdout",
     "output_type": "stream",
     "text": [
      "(1, 2, 3, 4, 5, 6)\n",
      "('repeat', 'repeat', 'repeat')\n"
     ]
    }
   ],
   "source": [
    "#concatenation\n",
    "print((1,2,3)+(4,5,6))\n",
    "print((\"repeat\",)*3)"
   ]
  },
  {
   "cell_type": "code",
   "execution_count": 6,
   "id": "f8cfe353",
   "metadata": {},
   "outputs": [
    {
     "ename": "TypeError",
     "evalue": "'tuple' object doesn't support item deletion",
     "output_type": "error",
     "traceback": [
      "\u001b[1;31m---------------------------------------------------------------------------\u001b[0m",
      "\u001b[1;31mTypeError\u001b[0m                                 Traceback (most recent call last)",
      "\u001b[1;32m~\\AppData\\Local\\Temp\\ipykernel_19128\\1119952016.py\u001b[0m in \u001b[0;36m<module>\u001b[1;34m\u001b[0m\n\u001b[0;32m      1\u001b[0m \u001b[1;31m#deleting tuples\u001b[0m\u001b[1;33m\u001b[0m\u001b[1;33m\u001b[0m\u001b[0m\n\u001b[0;32m      2\u001b[0m \u001b[0mmy_tuple\u001b[0m \u001b[1;33m=\u001b[0m \u001b[1;33m(\u001b[0m\u001b[1;34m'p'\u001b[0m\u001b[1;33m,\u001b[0m\u001b[1;34m't'\u001b[0m\u001b[1;33m,\u001b[0m\u001b[1;34m'i'\u001b[0m\u001b[1;33m,\u001b[0m\u001b[1;34m'o'\u001b[0m\u001b[1;33m,\u001b[0m\u001b[1;34m'k'\u001b[0m\u001b[1;33m,\u001b[0m\u001b[1;34m'y'\u001b[0m\u001b[1;33m,\u001b[0m\u001b[1;34m'v'\u001b[0m\u001b[1;33m,\u001b[0m\u001b[1;34m'n'\u001b[0m\u001b[1;33m)\u001b[0m\u001b[1;33m\u001b[0m\u001b[1;33m\u001b[0m\u001b[0m\n\u001b[1;32m----> 3\u001b[1;33m \u001b[1;32mdel\u001b[0m \u001b[0mmy_tuple\u001b[0m\u001b[1;33m[\u001b[0m\u001b[1;36m6\u001b[0m\u001b[1;33m]\u001b[0m\u001b[1;33m\u001b[0m\u001b[1;33m\u001b[0m\u001b[0m\n\u001b[0m\u001b[0;32m      4\u001b[0m \u001b[0mprint\u001b[0m\u001b[1;33m(\u001b[0m\u001b[0mmy_tuple\u001b[0m\u001b[1;33m)\u001b[0m\u001b[1;33m\u001b[0m\u001b[1;33m\u001b[0m\u001b[0m\n",
      "\u001b[1;31mTypeError\u001b[0m: 'tuple' object doesn't support item deletion"
     ]
    }
   ],
   "source": [
    "#deleting tuples\n",
    "#specific item deletion in tuple is not possible\n",
    "my_tuple = ('p','t','i','o','k','y','v','n')\n",
    "del my_tuple\n",
    "print(my_tuple)"
   ]
  },
  {
   "cell_type": "code",
   "execution_count": 7,
   "id": "45cc6c4f",
   "metadata": {},
   "outputs": [
    {
     "name": "stdout",
     "output_type": "stream",
     "text": [
      "1\n",
      "3\n"
     ]
    }
   ],
   "source": [
    "#tuple methods\n",
    "my_tuple = ('a','c','p','40','e',)\n",
    "print(my_tuple.count('p'))\n",
    "print(my_tuple.index('40'))\n",
    "\n",
    "#remove a key: value pair from a dictionary\n",
    "person = {'name':'ram', \"age\":25, 'profession':'engg'}\n"
   ]
  },
  {
   "cell_type": "code",
   "execution_count": 8,
   "id": "6eb803f8",
   "metadata": {},
   "outputs": [
    {
     "name": "stdout",
     "output_type": "stream",
     "text": [
      "[1, 2, 4, 5, 6, 7, 8, 9]\n",
      "[1, 6, 7, 8, 9]\n",
      "[]\n"
     ]
    }
   ],
   "source": [
    "my_list = [1,2,3,4,5,6,7,8,9]\n",
    "del my_list[2]\n",
    "print(my_list)\n",
    "del my_list[1:4]\n",
    "print(my_list)\n",
    "del my_list[:]\n",
    "print(my_list)"
   ]
  },
  {
   "cell_type": "code",
   "execution_count": 6,
   "id": "860d42fd",
   "metadata": {},
   "outputs": [
    {
     "name": "stdout",
     "output_type": "stream",
     "text": [
      "1\n",
      "2\n",
      "3\n",
      "a\n",
      "ab\n",
      "[1, 2, 3]\n",
      "8\n"
     ]
    }
   ],
   "source": [
    "#Nested list\n",
    "list1 = [1,2,3,'a','ab',[1,2,3],8]\n",
    "i = 0\n",
    "while i<(len(list1)):\n",
    "    print(list1[i])\n",
    "    i+=1"
   ]
  },
  {
   "cell_type": "code",
   "execution_count": 10,
   "id": "c61d7038",
   "metadata": {},
   "outputs": [
    {
     "name": "stdout",
     "output_type": "stream",
     "text": [
      "[0, 1, 8, 27, 64, 125, 216, 343, 512, 729]\n"
     ]
    }
   ],
   "source": [
    "#program to make list of cube\n",
    "list1 =[1,2,3,4,5,6,7,8,9,10]\n",
    "list2=[]\n",
    "i = 0\n",
    "while i<len(list1):\n",
    "    list2.append(i**3)\n",
    "    i+=1\n",
    "print(list2)"
   ]
  },
  {
   "cell_type": "code",
   "execution_count": 3,
   "id": "ce4da0d1",
   "metadata": {},
   "outputs": [
    {
     "name": "stdout",
     "output_type": "stream",
     "text": [
      "[1, 8, 27, 64, 125, 216, 343, 512, 729, 1000]\n"
     ]
    }
   ],
   "source": [
    "#program to make list of cube\n",
    "list1 =[1,2,3,4,5,6,7,8,9,10]\n",
    "list2=[]\n",
    "for i in list1:\n",
    "    list2.append(i**3)\n",
    "print(list2)"
   ]
  },
  {
   "cell_type": "code",
   "execution_count": 12,
   "id": "89377dfd",
   "metadata": {},
   "outputs": [
    {
     "name": "stdout",
     "output_type": "stream",
     "text": [
      "['1,4', '1,5', '1,6', '2,4', '2,5', '2,6', '3,4', '3,5', '3,6']\n"
     ]
    }
   ],
   "source": [
    "#program to combine and print elements of two list using \n",
    "list5=[1,2,3]\n",
    "list6=[4,5,6]\n",
    "list7=[]\n",
    "for x in list5:\n",
    "    for y in list6:\n",
    "        list7.append(str(x)+ \",\" +str(y))\n",
    "print(list7)"
   ]
  },
  {
   "cell_type": "code",
   "execution_count": 1,
   "id": "83e7d37f",
   "metadata": {},
   "outputs": [
    {
     "ename": "MemoryError",
     "evalue": "",
     "output_type": "error",
     "traceback": [
      "\u001b[1;31m---------------------------------------------------------------------------\u001b[0m",
      "\u001b[1;31mMemoryError\u001b[0m                               Traceback (most recent call last)",
      "\u001b[1;32m~\\AppData\\Local\\Temp\\ipykernel_4504\\1561738531.py\u001b[0m in \u001b[0;36m<module>\u001b[1;34m\u001b[0m\n\u001b[0;32m      5\u001b[0m \u001b[0mi\u001b[0m \u001b[1;33m=\u001b[0m \u001b[1;36m0\u001b[0m\u001b[1;33m\u001b[0m\u001b[1;33m\u001b[0m\u001b[0m\n\u001b[0;32m      6\u001b[0m \u001b[1;32mwhile\u001b[0m \u001b[0mi\u001b[0m \u001b[1;33m<\u001b[0m\u001b[0mlen\u001b[0m\u001b[1;33m(\u001b[0m\u001b[0mlist5\u001b[0m\u001b[1;33m)\u001b[0m\u001b[1;33m:\u001b[0m\u001b[0;31m\\\u001b[0m\u001b[1;33m\u001b[0m\u001b[1;33m\u001b[0m\u001b[0m\n\u001b[1;32m----> 7\u001b[1;33m     \u001b[0mlist7\u001b[0m\u001b[1;33m.\u001b[0m\u001b[0mappend\u001b[0m\u001b[1;33m(\u001b[0m\u001b[0mlist5\u001b[0m\u001b[1;33m[\u001b[0m\u001b[0mi\u001b[0m\u001b[1;33m]\u001b[0m\u001b[1;33m+\u001b[0m\u001b[0mlist6\u001b[0m\u001b[1;33m[\u001b[0m\u001b[0mi\u001b[0m\u001b[1;33m]\u001b[0m\u001b[1;33m)\u001b[0m\u001b[1;33m\u001b[0m\u001b[1;33m\u001b[0m\u001b[0m\n\u001b[0m\u001b[0;32m      8\u001b[0m \u001b[0mprint\u001b[0m\u001b[1;33m(\u001b[0m\u001b[0mlist7\u001b[0m\u001b[1;33m)\u001b[0m\u001b[1;33m\u001b[0m\u001b[1;33m\u001b[0m\u001b[0m\n",
      "\u001b[1;31mMemoryError\u001b[0m: "
     ]
    }
   ],
   "source": [
    "#program to create a list of number divisible by 2 or 4 using list comprehension\n",
    "list5=[\"1\",\"2\",\"3\"]\n",
    "list6=[\"4\",\"5\",\"6\"]\n",
    "list7=[]\n",
    "i = 0\n",
    "while i <len(list5):\n",
    "    list7.append(list5[i]+list6[i])\n",
    "print(list7)"
   ]
  },
  {
   "cell_type": "code",
   "execution_count": null,
   "id": "534e6ed6",
   "metadata": {},
   "outputs": [],
   "source": [
    "list5=[\"1\",\"2\",\"3\"]\n",
    "list6=[\"4\",\"5\",\"6\"]\n",
    "list7=[]\n",
    "for x in len(list5):\n",
    "    list7.append(list5[i]+list6[i])\n",
    "print(list7)"
   ]
  },
  {
   "cell_type": "code",
   "execution_count": null,
   "id": "a33c69e4",
   "metadata": {},
   "outputs": [],
   "source": []
  }
 ],
 "metadata": {
  "kernelspec": {
   "display_name": "Python 3 (ipykernel)",
   "language": "python",
   "name": "python3"
  },
  "language_info": {
   "codemirror_mode": {
    "name": "ipython",
    "version": 3
   },
   "file_extension": ".py",
   "mimetype": "text/x-python",
   "name": "python",
   "nbconvert_exporter": "python",
   "pygments_lexer": "ipython3",
   "version": "3.9.13"
  }
 },
 "nbformat": 4,
 "nbformat_minor": 5
}
