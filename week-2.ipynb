{
 "cells": [
  {
   "cell_type": "code",
   "execution_count": 1,
   "id": "4f6d67af",
   "metadata": {},
   "outputs": [
    {
     "name": "stdout",
     "output_type": "stream",
     "text": [
      "4\n",
      "\n",
      "*\n",
      "**\n",
      "***\n",
      "****\n"
     ]
    }
   ],
   "source": [
    "n = int(input())\n",
    "for i in range(0,n+1):\n",
    "    print(end = \"\")\n",
    "    for j in range(0,i):\n",
    "        print(\"*\", end = \"\")\n",
    "    print()"
   ]
  },
  {
   "cell_type": "code",
   "execution_count": 2,
   "id": "25d03501",
   "metadata": {},
   "outputs": [
    {
     "name": "stdout",
     "output_type": "stream",
     "text": [
      "4\n",
      "     *\n",
      "    ***\n",
      "   *****\n",
      "  *******\n"
     ]
    }
   ],
   "source": [
    "n = int(input())\n",
    "for i in range(n):\n",
    "    print(\" \" * (n-i) , \"*\" * (2*i + 1))\n",
    "    "
   ]
  },
  {
   "cell_type": "code",
   "execution_count": 3,
   "id": "7da34279",
   "metadata": {},
   "outputs": [
    {
     "name": "stdout",
     "output_type": "stream",
     "text": [
      "4\n",
      "1 2 3 4 \n",
      "1 2 3 4 \n",
      "1 2 3 4 \n",
      "1 2 3 4 \n"
     ]
    }
   ],
   "source": [
    "n = int(input())\n",
    "for i in range(1,n+1):\n",
    "    for j in range(1,n+1):\n",
    "        print(j, end = \" \")\n",
    "    print()"
   ]
  },
  {
   "cell_type": "code",
   "execution_count": 4,
   "id": "e7a88f7b",
   "metadata": {},
   "outputs": [
    {
     "name": "stdout",
     "output_type": "stream",
     "text": [
      "4\n",
      "5\n",
      "6\n",
      "['5']\n"
     ]
    }
   ],
   "source": [
    "#pyhton program to accept the list from the user and print alternate number\n",
    "list=[]\n",
    "list.append(input())\n",
    "list.append(input())\n",
    "list.append(input())\n",
    "a = list[1::2]\n",
    "print(a)"
   ]
  },
  {
   "cell_type": "code",
   "execution_count": 5,
   "id": "efa5f1ee",
   "metadata": {},
   "outputs": [
    {
     "name": "stdout",
     "output_type": "stream",
     "text": [
      "4\n",
      "1\n",
      "23\n",
      "4\n",
      "5\n",
      "[4, 1, 23, 4, 5]\n",
      "4\n",
      "23\n",
      "5\n"
     ]
    }
   ],
   "source": [
    "#list input\n",
    "lst =[]\n",
    "for x in range(5):\n",
    "    y = int(input())\n",
    "    lst.append(y)\n",
    "print(lst)\n",
    "for i in range(0,5,2):\n",
    "    print(lst[i])"
   ]
  },
  {
   "cell_type": "code",
   "execution_count": 1,
   "id": "77f6fcd8",
   "metadata": {},
   "outputs": [
    {
     "name": "stdout",
     "output_type": "stream",
     "text": [
      "5\n",
      "48\n",
      "25\n",
      "4\n",
      "6\n",
      "7\n",
      "[48, 25, 4, 6, 7]\n",
      "48\n"
     ]
    }
   ],
   "source": [
    "#find and display the largest number in a list without using max function\n",
    "lst = []\n",
    "n = int(input())\n",
    "for x in range(n):\n",
    "    y = int(input())\n",
    "    lst.append(y)\n",
    "print(lst)\n",
    "ln = lst[0]\n",
    "for i in lst:\n",
    "    if i>ln:\n",
    "        ln=i\n",
    "print(ln)"
   ]
  },
  {
   "cell_type": "code",
   "execution_count": 26,
   "id": "21f478d9",
   "metadata": {},
   "outputs": [
    {
     "name": "stdout",
     "output_type": "stream",
     "text": [
      "3\n",
      "1\n",
      "2\n",
      "4\n",
      "[1, 2, 4]\n",
      "[4, 2, 1]\n"
     ]
    }
   ],
   "source": [
    "#content of list and reverse the values in list\n",
    "lst = []\n",
    "n = int(input())\n",
    "for x in range(0,n):\n",
    "    y = int(input())\n",
    "    lst.append(y)\n",
    "print(lst)\n",
    "a = lst[::-1]\n",
    "print(a)"
   ]
  },
  {
   "cell_type": "code",
   "execution_count": 3,
   "id": "771f5a4e",
   "metadata": {},
   "outputs": [
    {
     "name": "stdout",
     "output_type": "stream",
     "text": [
      "1 2 3 4 Else is also printed\n"
     ]
    }
   ],
   "source": [
    "i=1\n",
    "while i<5:\n",
    "    if i == 6:\n",
    "        break\n",
    "    print(i,end=\" \")\n",
    "    i = i + 1\n",
    "else:\n",
    "    print(\"Else is also printed\")"
   ]
  },
  {
   "cell_type": "code",
   "execution_count": 6,
   "id": "80ff0016",
   "metadata": {},
   "outputs": [
    {
     "name": "stdout",
     "output_type": "stream",
     "text": [
      "1 2 "
     ]
    }
   ],
   "source": [
    "i=1\n",
    "while i<5:\n",
    "    if i == 3:\n",
    "        break\n",
    "    print(i, end=\" \")\n",
    "    i = i + 1\n",
    "else:\n",
    "    print(\"Else is also printed\")\n"
   ]
  },
  {
   "cell_type": "code",
   "execution_count": null,
   "id": "754841f4",
   "metadata": {},
   "outputs": [],
   "source": [
    "\n",
    "\n"
   ]
  }
 ],
 "metadata": {
  "kernelspec": {
   "display_name": "Python 3 (ipykernel)",
   "language": "python",
   "name": "python3"
  },
  "language_info": {
   "codemirror_mode": {
    "name": "ipython",
    "version": 3
   },
   "file_extension": ".py",
   "mimetype": "text/x-python",
   "name": "python",
   "nbconvert_exporter": "python",
   "pygments_lexer": "ipython3",
   "version": "3.9.13"
  }
 },
 "nbformat": 4,
 "nbformat_minor": 5
}
