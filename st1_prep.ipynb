{
 "cells": [
  {
   "cell_type": "code",
   "execution_count": 6,
   "id": "87280630",
   "metadata": {},
   "outputs": [
    {
     "name": "stdout",
     "output_type": "stream",
     "text": [
      "571\n",
      "false\n"
     ]
    }
   ],
   "source": [
    "#armstrong\n",
    "n = int(input())\n",
    "sum = 0\n",
    "num1 = n\n",
    "l = len(str(n))\n",
    "while n>0:\n",
    "    digit = n%10\n",
    "    sum = sum + digit**l\n",
    "    n = n//10\n",
    "if sum == num1:\n",
    "    print(\"true\")\n",
    "else:\n",
    "    print(\"false\")"
   ]
  },
  {
   "cell_type": "code",
   "execution_count": 9,
   "id": "846f6b53",
   "metadata": {},
   "outputs": [
    {
     "name": "stdout",
     "output_type": "stream",
     "text": [
      "6\n",
      "its not\n"
     ]
    }
   ],
   "source": [
    "#fibonacci series element presence\n",
    "n = int(input())\n",
    "c=0\n",
    "a=1\n",
    "b=1\n",
    "if n==0 or n==1:\n",
    "    print(\"its a fibonacci number\")\n",
    "else:\n",
    "    while c<n:\n",
    "        c=a+b\n",
    "        a=b\n",
    "        b=c\n",
    "    if c==n:\n",
    "        print(\"its a fibonacci no.\")\n",
    "    else:\n",
    "              print(\"its not\")\n",
    "        "
   ]
  },
  {
   "cell_type": "code",
   "execution_count": 13,
   "id": "6c5fed1f",
   "metadata": {},
   "outputs": [
    {
     "name": "stdout",
     "output_type": "stream",
     "text": [
      "6\n",
      "720\n"
     ]
    }
   ],
   "source": [
    "#factorial\n",
    "def fact(n):\n",
    "    if n==1:\n",
    "        return 1\n",
    "    else:\n",
    "        return n*fact(n-1)\n",
    "n = int(input())\n",
    "print(fact(n))"
   ]
  },
  {
   "cell_type": "code",
   "execution_count": 1,
   "id": "7e3c6ce7",
   "metadata": {},
   "outputs": [
    {
     "name": "stdout",
     "output_type": "stream",
     "text": [
      "0\n",
      "100\n",
      "20\n",
      "0 -17\n",
      "20 -6\n",
      "40 4\n",
      "60 15\n",
      "80 26\n",
      "None\n"
     ]
    }
   ],
   "source": [
    "def printTable(S,E,W):\n",
    "    while S<E:\n",
    "        f_to_c=(((S-32)*5)/9)\n",
    "        print(S, int(f_to_c))\n",
    "        S = S+W\n",
    "S = int(input())\n",
    "E = int(input())\n",
    "W = int(input())\n",
    "print(printTable(S,E,W))"
   ]
  },
  {
   "cell_type": "code",
   "execution_count": 7,
   "id": "bd93e317",
   "metadata": {},
   "outputs": [
    {
     "name": "stdout",
     "output_type": "stream",
     "text": [
      "54\n",
      "78\n",
      "96\n",
      "52\n",
      "[54, 78, 96, 52]\n",
      "54\n",
      "96\n"
     ]
    }
   ],
   "source": [
    "list = []\n",
    "for i in range(4):\n",
    "    y = int(input())\n",
    "    list.append(y)\n",
    "print(list)\n",
    "for i in range(0,4,2):\n",
    "    print(list[i])"
   ]
  },
  {
   "cell_type": "code",
   "execution_count": 12,
   "id": "ae087884",
   "metadata": {},
   "outputs": [
    {
     "name": "stdout",
     "output_type": "stream",
     "text": [
      "52\n",
      "4\n",
      "8\n",
      "9\n",
      "[52, 4, 8, 9]\n",
      "52\n"
     ]
    }
   ],
   "source": [
    "#largest number\n",
    "lst = []\n",
    "for i in range(4):\n",
    "    y = int(input())\n",
    "    lst.append(y)\n",
    "print(lst)\n",
    "ln = lst[0]\n",
    "for i in list:\n",
    "    while i>ln:\n",
    "        i=ln\n",
    "print(ln)"
   ]
  },
  {
   "cell_type": "code",
   "execution_count": 20,
   "id": "b127082f",
   "metadata": {},
   "outputs": [
    {
     "name": "stdout",
     "output_type": "stream",
     "text": [
      "enter a statement: heyy this is me\n",
      "word to be deleted: id\n",
      "word doesnt exists\n"
     ]
    }
   ],
   "source": [
    "#removing a letter from string\n",
    "text = input(\"enter a statement: \")\n",
    "words = text.split()\n",
    "\n",
    "data = input(\"word to be deleted: \")\n",
    "status = False\n",
    "\n",
    "for word in words:\n",
    "    if word==data:\n",
    "        words.remove(word)\n",
    "        status = True\n",
    "if status:\n",
    "    text = ' '.join(words)\n",
    "    print(text)\n",
    "else:\n",
    "    print(\"word doesnt exists\")"
   ]
  },
  {
   "cell_type": "code",
   "execution_count": 22,
   "id": "6cdc5a2a",
   "metadata": {},
   "outputs": [
    {
     "name": "stdout",
     "output_type": "stream",
     "text": [
      "10/22/2005\n",
      "oct 22,2005\n"
     ]
    }
   ],
   "source": [
    "#(mm/dd/yyyy) to march 4, 2022\n",
    "date = input()\n",
    "datelist = date.split('/')\n",
    "month = int(datelist[0])\n",
    "date = int(datelist[1])\n",
    "year = int(datelist[2])\n",
    "\n",
    "if month == 1:\n",
    "    month = \"jan\"\n",
    "elif month == 2:\n",
    "    month = \"feb\"\n",
    "elif month == 3:\n",
    "    month = \"march\"\n",
    "elif month == 4:\n",
    "    month = \"april\"\n",
    "elif month == 5:\n",
    "    month = \"may\"\n",
    "elif month == 6:\n",
    "    month = \"june\"\n",
    "elif month == 7:\n",
    "    month = \"july\"\n",
    "elif month == 8:\n",
    "    month = \"aug\"\n",
    "elif month == 9:\n",
    "    month = \"sep\"\n",
    "elif month == 10:\n",
    "    month = \"oct\"\n",
    "elif month == 11:\n",
    "    month = \"nov\"\n",
    "elif month == 12:\n",
    "    month = \"dec\"\n",
    "    \n",
    "newdate = month + ' ' + str(date) + ',' + str(year)\n",
    "print(newdate)"
   ]
  },
  {
   "cell_type": "code",
   "execution_count": 24,
   "id": "4fa9f413",
   "metadata": {},
   "outputs": [
    {
     "name": "stdout",
     "output_type": "stream",
     "text": [
      "2\n",
      "8\n",
      "5\n",
      "6\n",
      "9\n",
      "[2, 8, 5, 6, 9]\n",
      "8\n"
     ]
    }
   ],
   "source": [
    "lst = []\n",
    "for i in range(5):\n",
    "    y = int(input())\n",
    "    lst.append(y)\n",
    "print(lst)\n",
    "\n",
    "lst.remove(max(lst))\n",
    "print(max(lst))"
   ]
  },
  {
   "cell_type": "code",
   "execution_count": 26,
   "id": "204b1fa7",
   "metadata": {},
   "outputs": [
    {
     "name": "stdout",
     "output_type": "stream",
     "text": [
      "6\n",
      "8\n",
      "5\n",
      "24\n",
      "8\n",
      "[6, 8, 5, 24, 8]\n",
      "8\n",
      "exists\n"
     ]
    }
   ],
   "source": [
    "lst = []\n",
    "for i in range(5):\n",
    "    y = int(input())\n",
    "    lst.append(y)\n",
    "print(lst)\n",
    "i = int(input())\n",
    "if i in lst:\n",
    "    print(\"exists\")\n",
    "if i not in lst:\n",
    "    print(\"not\")"
   ]
  },
  {
   "cell_type": "code",
   "execution_count": 30,
   "id": "48d360ff",
   "metadata": {},
   "outputs": [
    {
     "name": "stdout",
     "output_type": "stream",
     "text": [
      "1\n",
      "10\n",
      "2\n",
      "3\n",
      "5\n",
      "7\n"
     ]
    }
   ],
   "source": [
    "lower = int(input())\n",
    "upper = int(input())\n",
    "for num in range(lower,upper+1):\n",
    "    if num>1:\n",
    "        for i in range(2,num):\n",
    "            if (num%i)==0:\n",
    "                break\n",
    "        else:\n",
    "            print(num)"
   ]
  },
  {
   "cell_type": "code",
   "execution_count": null,
   "id": "dd3c5204",
   "metadata": {},
   "outputs": [],
   "source": [
    "list = [1,2,3,2,2,3]\n",
    "ulist = []\n",
    "dlist = []\n",
    "for i in list:\n",
    "    if i not in ulist:\n",
    "        ulist.append(i)\n",
    "    elif i not in dlist :\n",
    "        dlist.append(i)\n",
    "print(ulist)\n",
    "print(dlist)\n",
    "\n",
    "result = {}\n",
    "for i in list:\n",
    "    result[i] = list.count(i)\n",
    "print(result)"
   ]
  },
  {
   "cell_type": "code",
   "execution_count": 12,
   "id": "f33889b6",
   "metadata": {},
   "outputs": [
    {
     "name": "stdout",
     "output_type": "stream",
     "text": [
      "[1, 2, 3, 4, 43]\n",
      "[2, 1]\n"
     ]
    }
   ],
   "source": [
    "list = [1,2,3,4,43,2,1]\n",
    "ulist=[]\n",
    "dlist=[]\n",
    "for i in list:\n",
    "    if i not in ulist:\n",
    "        ulist.append(i)\n",
    "    elif i not in dlist:\n",
    "        dlist.append(i)\n",
    "print(ulist)\n",
    "print(dlist)"
   ]
  },
  {
   "cell_type": "code",
   "execution_count": 14,
   "id": "c8190bda",
   "metadata": {},
   "outputs": [
    {
     "name": "stdout",
     "output_type": "stream",
     "text": [
      "[1, 2, 3, 21]\n",
      "[3, 1]\n"
     ]
    }
   ],
   "source": [
    "list=[1,2,3,3,21,1]\n",
    "ulist=[]\n",
    "dlist=[]\n",
    "for i in list:\n",
    "    if i not in ulist:\n",
    "        ulist.append(i)\n",
    "    elif i not in dlist:\n",
    "        dlist.append(i)\n",
    "print(ulist)\n",
    "print(dlist)"
   ]
  },
  {
   "cell_type": "code",
   "execution_count": 10,
   "id": "54386700",
   "metadata": {},
   "outputs": [
    {
     "name": "stdout",
     "output_type": "stream",
     "text": [
      "5\n",
      "6\n",
      "1\n",
      "2\n",
      "3\n",
      "6 5\n"
     ]
    }
   ],
   "source": [
    "#question:\n",
    "A = []\n",
    "for i in range(5):\n",
    "    y = int(input())\n",
    "    A.append(y)\n",
    "x = max(A)\n",
    "\n",
    "A.remove(max(A))\n",
    "print(x,max(A))"
   ]
  }
 ],
 "metadata": {
  "kernelspec": {
   "display_name": "Python 3 (ipykernel)",
   "language": "python",
   "name": "python3"
  },
  "language_info": {
   "codemirror_mode": {
    "name": "ipython",
    "version": 3
   },
   "file_extension": ".py",
   "mimetype": "text/x-python",
   "name": "python",
   "nbconvert_exporter": "python",
   "pygments_lexer": "ipython3",
   "version": "3.9.13"
  }
 },
 "nbformat": 4,
 "nbformat_minor": 5
}
