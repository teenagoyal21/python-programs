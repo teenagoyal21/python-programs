{
 "cells": [
  {
   "cell_type": "code",
   "execution_count": 5,
   "id": "54634fe9",
   "metadata": {
    "scrolled": true
   },
   "outputs": [
    {
     "name": "stdout",
     "output_type": "stream",
     "text": [
      "enter the no. of row we want in list: 2\n",
      "enter number of column in list: 2\n",
      "enter element: 0,0:2\n",
      "enter element: 0,1:3\n",
      "list has created: [[2, 3]]\n",
      "enter element: 1,0:5\n",
      "enter element: 1,1:6\n",
      "list has created: [[2, 3], [5, 6]]\n"
     ]
    }
   ],
   "source": [
    "#two dimensional list representation \n",
    "list1 = []\n",
    "r = int(input(\"enter the no. of row we want in list: \"))\n",
    "c= int(input(\"enter number of column in list: \"))\n",
    "for i in range(r):\n",
    "    row = []\n",
    "    for j in range(c):\n",
    "        element = int(input(\"enter element: \" + str(i)+ \",\" + str(j) + (\":\")))\n",
    "        row.append(element)\n",
    "    list1.append(row)\n",
    "    print(\"list has created:\", list1)"
   ]
  },
  {
   "cell_type": "code",
   "execution_count": 15,
   "id": "bbe0f548",
   "metadata": {},
   "outputs": [
    {
     "name": "stdout",
     "output_type": "stream",
     "text": [
      "list:  [1, 2, 3, 4, 5, 6, 7, 8, 9, 10]\n",
      "first element of list: 1\n",
      "list[2:5]: [3, 4, 5]\n",
      "list[::2]: [1, 3, 5, 7, 9]\n",
      "list[1::3]: [2, 5, 8]\n"
     ]
    }
   ],
   "source": [
    "#access value in a list\n",
    "list1 = [1,2,3,4,5,6,7,8,9,10]\n",
    "print(\"list: \", list1)\n",
    "print(\"first element of list:\", list1[0])\n",
    "print(\"list[2:5]:\",list1[2:5])\n",
    "print(\"list[::2]:\",list1[::2])\n",
    "print(\"list[1::3]:\",list1[1::3])"
   ]
  },
  {
   "cell_type": "code",
   "execution_count": 26,
   "id": "735df852",
   "metadata": {},
   "outputs": [
    {
     "name": "stdout",
     "output_type": "stream",
     "text": [
      "list is: 100\n",
      "list after appending a value is: [1, 2, 3, 4, 5, 6, 7, 8, 200]\n",
      "list after deleting a value is: [1, 2, 3, 5, 6, 7, 8, 200]\n",
      "list after updation is: 1\n"
     ]
    }
   ],
   "source": [
    "#updating value in a list\n",
    "lst = [1,2,3,4,5,6,7,8]\n",
    "print(\"list is:\", l)\n",
    "lst.append(200)\n",
    "print(\"list after appending a value is:\", lst)\n",
    "del lst[3]\n",
    "print(\"list after deleting a value is:\", lst)\n",
    "lst=1\n",
    "print(\"list after updation is:\",lst)"
   ]
  },
  {
   "cell_type": "code",
   "execution_count": 33,
   "id": "675e76e2",
   "metadata": {},
   "outputs": [
    {
     "name": "stdout",
     "output_type": "stream",
     "text": [
      "original list: [1, 9, 11, 13, 15]\n",
      "after insert list, updated list is : [1, 9, [3, 5, 7], 13, 15]\n"
     ]
    }
   ],
   "source": [
    "#program to insert a list in another list using slice operation\n",
    "lst = [1,9,11,13,15]\n",
    "print(\"original list:\", lst)\n",
    "lst[2]=[3,5,7]\n",
    "print(\"after insert list, updated list is :\", lst)"
   ]
  },
  {
   "cell_type": "code",
   "execution_count": 37,
   "id": "72858060",
   "metadata": {},
   "outputs": [
    {
     "name": "stdout",
     "output_type": "stream",
     "text": [
      "['1', '2', 'B', 'a', 'abc', 'xya']\n"
     ]
    }
   ],
   "source": [
    "#sorting a list \n",
    "# upper case letter at first then lower case\n",
    "list1 = [\"1\",\"a\",\"abc\",'2','B','xya']\n",
    "list1.sort()\n",
    "print(list1)"
   ]
  },
  {
   "cell_type": "code",
   "execution_count": 3,
   "id": "f26f3fb5",
   "metadata": {},
   "outputs": [
    {
     "name": "stdout",
     "output_type": "stream",
     "text": [
      "enter a string:hello\n",
      "length of string is:\n",
      "5\n"
     ]
    }
   ],
   "source": [
    "#string-mutable\n",
    "#length of an string\n",
    "\n",
    "#space counted\n",
    "string = input(\"enter a string:\")\n",
    "count=0\n",
    "for i in string:\n",
    "    count=count+1\n",
    "print(\"length of string is:\")\n",
    "print(count)"
   ]
  },
  {
   "cell_type": "code",
   "execution_count": 8,
   "id": "31419684",
   "metadata": {},
   "outputs": [
    {
     "name": "stdout",
     "output_type": "stream",
     "text": [
      "enter a string: HeLLo\n",
      "number of lowercase is: \n",
      "2\n"
     ]
    }
   ],
   "source": [
    "#count number of lower case character in a string\n",
    "#no space count\n",
    "string = input(\"enter a string: \")\n",
    "count = 0\n",
    "for i in string:\n",
    "    if(i.islower()):\n",
    "        count+=1\n",
    "print(\"number of lowercase is: \")\n",
    "print(count)"
   ]
  },
  {
   "cell_type": "code",
   "execution_count": 13,
   "id": "71ebb827",
   "metadata": {},
   "outputs": [
    {
     "name": "stdout",
     "output_type": "stream",
     "text": [
      "enter a string:heLLo\n",
      "number of uppercase is:  2\n",
      "number of lowercase is:  3\n"
     ]
    }
   ],
   "source": [
    "string = input(\"enter a string:\")\n",
    "count1=0\n",
    "for i in string:\n",
    "    if(i.isupper()):\n",
    "        count1+=1\n",
    "print(\"number of uppercase is: \", count1)\n",
    "\n",
    "count=0\n",
    "for i in string:\n",
    "    if(i.islower()):\n",
    "        count+=1\n",
    "print(\"number of lowercase is: \", count)\n"
   ]
  },
  {
   "cell_type": "code",
   "execution_count": 3,
   "id": "ea929252",
   "metadata": {},
   "outputs": [
    {
     "name": "stdout",
     "output_type": "stream",
     "text": [
      "enter a string: hello hii bye bye\n",
      "number of word in the string:  4\n",
      "number of character in the string:  17\n"
     ]
    }
   ],
   "source": [
    "#count the number of words and character in a string\n",
    "string = input(\"enter a string: \")\n",
    "char = 0\n",
    "word = 1\n",
    "for i in string:\n",
    "    char+=1\n",
    "    if (i==' '):\n",
    "        word+=1\n",
    "print(\"number of word in the string: \", word)\n",
    "print(\"number of character in the string: \", char)"
   ]
  },
  {
   "cell_type": "code",
   "execution_count": 5,
   "id": "437c7056",
   "metadata": {},
   "outputs": [
    {
     "name": "stdout",
     "output_type": "stream",
     "text": [
      "enter a string: education\n",
      "number of vowels are:  5\n"
     ]
    }
   ],
   "source": [
    "#count the vowels in a string \n",
    "string = input(\"enter a string: \")\n",
    "vowels = 0\n",
    "for i in string:\n",
    "    if(i=='a' or i=='e' or i=='i' or i=='o' or i=='u' or i=='A' or i=='E' or i=='I' or i=='O' or i=='U'):\n",
    "        vowels+=1\n",
    "print(\"number of vowels are: \", vowels)"
   ]
  },
  {
   "cell_type": "code",
   "execution_count": null,
   "id": "66cb7b17",
   "metadata": {},
   "outputs": [],
   "source": [
    "#remove the nth index character from a non empty string\n",
    "#ascii values = a-z=97-122 ____ A-Z=65-90\n"
   ]
  },
  {
   "cell_type": "code",
   "execution_count": 2,
   "id": "4533d258",
   "metadata": {},
   "outputs": [
    {
     "name": "stdout",
     "output_type": "stream",
     "text": [
      "[17, 15, 4]\n",
      "[10, 12, 9]\n",
      "[11, 13, 18]\n"
     ]
    }
   ],
   "source": [
    "#write a program to add two matrix of order n*m\n",
    "X = [[12,7,3],\n",
    "    [4,5,6],\n",
    "    [7,8,9]]\n",
    "Y = [[5,8,1],\n",
    "    [6,7,3],\n",
    "    [4,5,9]]\n",
    "result = [[0,0,0],\n",
    "         [0,0,0],\n",
    "         [0,0,0]]\n",
    "for i in range(len(X)):\n",
    "    for j in range(len(X[0])):\n",
    "        result[i][j] = X[i][j] + Y[i][j]\n",
    "for r in result:\n",
    "    print(r)"
   ]
  },
  {
   "cell_type": "code",
   "execution_count": 7,
   "id": "f55c3fa6",
   "metadata": {},
   "outputs": [
    {
     "name": "stdout",
     "output_type": "stream",
     "text": [
      "enter the no. of row we want in list: 2\n",
      "enter number of column in list: 2\n",
      "enter element: 0,0:3\n",
      "enter element: 0,1:6\n",
      "list1 has created: [[3, 6]]\n",
      "enter element: 1,0:9\n",
      "enter element: 1,1:8\n",
      "list1 has created: [[3, 6], [9, 8]]\n",
      "enter the no. of row we want in list: 2\n",
      "enter number of column in list: 2\n",
      "enter element: 0,0:5\n",
      "enter element: 0,1:8\n",
      "list2 has created: [[5, 8]]\n",
      "enter element: 1,0:4\n",
      "enter element: 1,1:7\n",
      "list2 has created: [[5, 8], [4, 7]]\n",
      "[8, 14]\n",
      "[13, 15]\n"
     ]
    }
   ],
   "source": [
    "lst1 = []\n",
    "r = int(input(\"enter the no. of row we want in list: \"))\n",
    "c= int(input(\"enter number of column in list: \"))\n",
    "for i in range(r):\n",
    "    row = []\n",
    "    for j in range(c):\n",
    "        element = int(input(\"enter element: \" + str(i)+ \",\" + str(j) + (\":\")))\n",
    "        row.append(element)\n",
    "    lst1.append(row)\n",
    "    print(\"list1 has created:\", lst1)\n",
    "    \n",
    "list1 = []\n",
    "r = int(input(\"enter the no. of row we want in list: \"))\n",
    "c= int(input(\"enter number of column in list: \"))\n",
    "for i in range(r):\n",
    "    row = []\n",
    "    for j in range(c):\n",
    "        element = int(input(\"enter element: \" + str(i)+ \",\" + str(j) + (\":\")))\n",
    "        row.append(element)\n",
    "    list1.append(row)\n",
    "    print(\"list2 has created:\", list1)\n",
    "    \n",
    "X = lst1\n",
    "Y = list1\n",
    "result = [[0,0],[0,0]]\n",
    "for i in range(len(X)):\n",
    "    for j in range(len(X[0])):\n",
    "        result[i][j] = X[i][j] + Y[i][j]\n",
    "for r in result:\n",
    "    print(r)"
   ]
  }
 ],
 "metadata": {
  "kernelspec": {
   "display_name": "Python 3 (ipykernel)",
   "language": "python",
   "name": "python3"
  },
  "language_info": {
   "codemirror_mode": {
    "name": "ipython",
    "version": 3
   },
   "file_extension": ".py",
   "mimetype": "text/x-python",
   "name": "python",
   "nbconvert_exporter": "python",
   "pygments_lexer": "ipython3",
   "version": "3.9.13"
  }
 },
 "nbformat": 4,
 "nbformat_minor": 5
}
