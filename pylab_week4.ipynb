{
 "cells": [
  {
   "cell_type": "code",
   "execution_count": null,
   "id": "0eccc6fb",
   "metadata": {},
   "outputs": [],
   "source": [
    "#write a python program to find the difference between list using sets:\n",
    "def Diff(A,B):\n",
    "    print(\"difference in two lists is:\")\n",
    "    return (list(set(A)-set(B)))\n",
    "A = list()\n",
    "n1 = int(input(\"enter the size of first list:\"))\n",
    "print(\"enter the element of first list\")\n",
    "for i in range(n1):\n",
    "    y = int(input())\n",
    "    A.append(y)\n",
    "\n",
    "B = list()\n",
    "n2=int(input(\"enter the size of second list:\"))\n",
    "print(\"enter the elements of 2nd list:\")\n",
    "for i in range(int(n2)):\n",
    "    z = int(input())\n",
    "    B.append(z)\n",
    "print(Diff(A,B))"
   ]
  },
  {
   "cell_type": "code",
   "execution_count": 12,
   "id": "f685c31c",
   "metadata": {},
   "outputs": [
    {
     "name": "stdout",
     "output_type": "stream",
     "text": [
      "[(10, 20, 10), (40, 50, 10), (70, 80, 10)]\n"
     ]
    }
   ],
   "source": [
    "#write a python program to replae last value of tuples in a list\n",
    "l = [(10,20,40),(40,50,60),(70,80,90)]\n",
    "print([t[:-1]+(10,) for t in l])"
   ]
  },
  {
   "cell_type": "code",
   "execution_count": 18,
   "id": "fe42aacd",
   "metadata": {},
   "outputs": [
    {
     "name": "stdout",
     "output_type": "stream",
     "text": [
      "[('',), ('a', 'b'), ('a', 'b', 'c'), 'd']\n"
     ]
    }
   ],
   "source": [
    "#write a python program to remove an empty tuples from a list of tuples\n",
    "L = [(),(),('',),('a','b'),('a','b','c'),('d')]\n",
    "L = [t for t in L if t]\n",
    "print(L)"
   ]
  },
  {
   "cell_type": "code",
   "execution_count": 10,
   "id": "286c8d70",
   "metadata": {},
   "outputs": [
    {
     "name": "stdout",
     "output_type": "stream",
     "text": [
      "original list:\n",
      "(('red', 'white', 'blue'), ('green', 'pink', 'purple'), ('orange', 'yellow', 'lime'))\n",
      "\n",
      "red\n",
      "\n",
      "check if red present in said tuple of tuples!\n",
      "True\n"
     ]
    }
   ],
   "source": [
    "#write a python program to check if a specified element presents in a tuple of tuples\n",
    "def check_in_tuples(colors,c):\n",
    "    result = any(c in t for t in colors)\n",
    "    return result\n",
    "\n",
    "colors = (('red','white','blue'),('green','pink','purple'),('orange','yellow','lime'),)\n",
    "\n",
    "print(\"original list:\")\n",
    "print(colors)\n",
    "\n",
    "print()\n",
    "c1 = input()\n",
    "print(\"\\ncheck if\",c1,\"present in said tuple of tuples!\")\n",
    "print(check_in_tuples(colors,c1))"
   ]
  },
  {
   "cell_type": "code",
   "execution_count": null,
   "id": "aefe1a5e",
   "metadata": {},
   "outputs": [],
   "source": []
  }
 ],
 "metadata": {
  "kernelspec": {
   "display_name": "Python 3 (ipykernel)",
   "language": "python",
   "name": "python3"
  },
  "language_info": {
   "codemirror_mode": {
    "name": "ipython",
    "version": 3
   },
   "file_extension": ".py",
   "mimetype": "text/x-python",
   "name": "python",
   "nbconvert_exporter": "python",
   "pygments_lexer": "ipython3",
   "version": "3.9.13"
  }
 },
 "nbformat": 4,
 "nbformat_minor": 5
}
