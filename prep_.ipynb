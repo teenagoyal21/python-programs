{
 "cells": [
  {
   "cell_type": "code",
   "execution_count": null,
   "id": "f3118b2d",
   "metadata": {},
   "outputs": [
    {
     "name": "stdout",
     "output_type": "stream",
     "text": [
      "1 2 "
     ]
    }
   ],
   "source": [
    "i=1\n",
    "while i<5:\n",
    "    if i==3:\n",
    "            continue\n",
    "    print(i,end=\" \")\n",
    "    i = i + 1"
   ]
  },
  {
   "cell_type": "code",
   "execution_count": null,
   "id": "ad574d90",
   "metadata": {},
   "outputs": [],
   "source": [
    "i=1\n",
    "while i<3:\n",
    "    j=0\n",
    "    while j<5:\n",
    "        j = j +1\n",
    "        if j==3:\n",
    "            continue\n",
    "        print(j,end=\" \")\n",
    "    i = i +1"
   ]
  },
  {
   "cell_type": "code",
   "execution_count": null,
   "id": "835dbf69",
   "metadata": {},
   "outputs": [],
   "source": [
    "i=1\n",
    "while i<3:\n",
    "    j=0\n",
    "    while j<5:\n",
    "        j = j+1\n",
    "        if j==3:\n",
    "            continue\n",
    "        print(j,end=\" \")\n",
    "    i = i+1\n"
   ]
  },
  {
   "cell_type": "code",
   "execution_count": null,
   "id": "54f963ff",
   "metadata": {},
   "outputs": [],
   "source": [
    "i=1\n",
    "while i<3:\n",
    "    j=0\n",
    "    while j<5:\n",
    "        j = j +1\n",
    "        if j==3:\n",
    "            continue\n",
    "        print(j,end=\" \")\n",
    "    i = i +1\n"
   ]
  },
  {
   "cell_type": "code",
   "execution_count": null,
   "id": "1193e306",
   "metadata": {},
   "outputs": [],
   "source": [
    "n = int(input())\n",
    "for i in range(1,n+1):\n",
    "    temp = n\n",
    "    for j in range(1,i):\n",
    "        print(temp,end=\"\")\n",
    "        temp = temp -1\n",
    "    for j in range(1,(2*n) - (2*i) + 2):\n",
    "        print(n-i+1,end=\"\")\n",
    "    for j in range(1,i):\n",
    "        temp = temp+1\n",
    "        print(temp,end=\"\")\n",
    "    print()\n",
    "for i in range(n-1,0,-1):\n",
    "    temp = n\n",
    "    for j in range(1,i):\n",
    "        print(temp,end=\"\")\n",
    "        temp = temp - 1 \n",
    "    for j in range(1,(2*n) - (2*i) + 2):\n",
    "        print(n-i+1,end=\"\")\n",
    "    for j in range(1,i):\n",
    "        temp = temp+1\n",
    "        print(temp,end=\"\")\n",
    "    print()"
   ]
  },
  {
   "cell_type": "code",
   "execution_count": 2,
   "id": "b01f922e",
   "metadata": {},
   "outputs": [
    {
     "name": "stdout",
     "output_type": "stream",
     "text": [
      "Enter any number: 5\n",
      "Is Prime\n"
     ]
    }
   ],
   "source": [
    "number = int(input(\"Enter any number: \"))\n",
    "isPrime= True\n",
    "if number > 1: \n",
    "    for i in range(2, number):\n",
    "        if (number % i) == 0: \n",
    "            isPrime= False\n",
    "        break\n",
    "if(number<=1): \n",
    "    print(\"Is Not Prime\")\n",
    "elif(isPrime):\n",
    "    print(\"Is Prime\")\n",
    "else:\n",
    "    print(\"Is Not Prime\")\n"
   ]
  },
  {
   "cell_type": "code",
   "execution_count": 14,
   "id": "dba047d4",
   "metadata": {},
   "outputs": [
    {
     "name": "stdout",
     "output_type": "stream",
     "text": [
      "s\n",
      "t\n",
      "r\n",
      "i\n",
      "n\n",
      "g\n"
     ]
    }
   ],
   "source": [
    "for con in \"string\":\n",
    "    if con == \"r\":\n",
    "        pass\n",
    "    print(con)\n",
    "    \n",
    "if 3 not in [1,2,4,3,5]:\n",
    "    print(\"true\")"
   ]
  },
  {
   "cell_type": "code",
   "execution_count": 15,
   "id": "af6f20e6",
   "metadata": {},
   "outputs": [
    {
     "name": "stdout",
     "output_type": "stream",
     "text": [
      "5\n",
      "6\n",
      "5\n",
      "2\n",
      "4\n",
      "8\n",
      "[6, 5, 2, 4, 8]\n"
     ]
    }
   ],
   "source": [
    "lst = []\n",
    "for x in range(3):\n",
    "    y = int(input())\n",
    "    lst.append(y)\n",
    "print(lst)"
   ]
  },
  {
   "cell_type": "code",
   "execution_count": 16,
   "id": "d9031bcf",
   "metadata": {},
   "outputs": [
    {
     "name": "stdout",
     "output_type": "stream",
     "text": [
      "5\n",
      "2\n",
      "4\n",
      "[5, 2, 4]\n"
     ]
    }
   ],
   "source": [
    "list = []\n",
    "for i in range(3):\n",
    "    y = int(input())\n",
    "    list.append(y)\n",
    "print(list)"
   ]
  },
  {
   "cell_type": "code",
   "execution_count": 30,
   "id": "4576df38",
   "metadata": {},
   "outputs": [
    {
     "name": "stdout",
     "output_type": "stream",
     "text": [
      "9\n",
      "3.0\n"
     ]
    }
   ],
   "source": [
    "#square root \n",
    "n = int(input())\n",
    "l = n**(1/2)\n",
    "print(l)"
   ]
  },
  {
   "cell_type": "code",
   "execution_count": 34,
   "id": "b1612491",
   "metadata": {},
   "outputs": [
    {
     "name": "stdout",
     "output_type": "stream",
     "text": [
      "225\n",
      "the square root is: 15.0\n"
     ]
    }
   ],
   "source": [
    "#square root ny newtons method\n",
    "def newtonsqrt(n):\n",
    "    approx = 0.5*n\n",
    "    better = 0.5*(approx + n/approx)\n",
    "    while better != approx:\n",
    "        approx = better\n",
    "        better = 0.5*(approx + n/approx)\n",
    "    return approx\n",
    "print(\"the square root is:\",newtonsqrt(int(input())))"
   ]
  },
  {
   "cell_type": "code",
   "execution_count": 29,
   "id": "e8428bd1",
   "metadata": {},
   "outputs": [
    {
     "name": "stdout",
     "output_type": "stream",
     "text": [
      "1\n",
      "10\n",
      "2\n",
      "3\n",
      "5\n",
      "7\n"
     ]
    }
   ],
   "source": [
    "#to print all prime numbers in a given range\n",
    "lower = int(input())\n",
    "upper = int(input())\n",
    "for i in range(lower,upper+1):\n",
    "    if i>1:\n",
    "        for x in range(2,i):\n",
    "            if (i%x)==0:\n",
    "                break\n",
    "        else:\n",
    "            print(i)"
   ]
  },
  {
   "cell_type": "code",
   "execution_count": 3,
   "id": "0576ed5c",
   "metadata": {},
   "outputs": [
    {
     "name": "stdout",
     "output_type": "stream",
     "text": [
      "[[11 22]\n",
      " [33 44]\n",
      " [55 66]]\n",
      "<class 'numpy.ndarray'>\n"
     ]
    }
   ],
   "source": [
    "#2d array\n",
    "from numpy import array\n",
    "data = [[11,22],[33,44],[55,66]]\n",
    "data = array(data)\n",
    "print(data)\n",
    "print(type(data))\n"
   ]
  },
  {
   "cell_type": "code",
   "execution_count": 6,
   "id": "31f6291e",
   "metadata": {},
   "outputs": [
    {
     "name": "stdout",
     "output_type": "stream",
     "text": [
      "55\n",
      "55\n"
     ]
    }
   ],
   "source": [
    "from numpy import array\n",
    "data = ([11,22,33,44,55])\n",
    "print(data[4])\n",
    "print(data[-1])"
   ]
  },
  {
   "cell_type": "code",
   "execution_count": 9,
   "id": "79467d15",
   "metadata": {},
   "outputs": [
    {
     "name": "stdout",
     "output_type": "stream",
     "text": [
      "11\n"
     ]
    }
   ],
   "source": [
    "from numpy import array\n",
    "data = array([[11,22],[33,44],[55,66]])\n",
    "print(data[0,0])\n"
   ]
  },
  {
   "cell_type": "code",
   "execution_count": 13,
   "id": "5f2d0d44",
   "metadata": {},
   "outputs": [
    {
     "name": "stdout",
     "output_type": "stream",
     "text": [
      "[11 22 33 44 55 66]\n",
      "[11 22 33 44]\n"
     ]
    }
   ],
   "source": [
    "#simple slicing\n",
    "from numpy import array\n",
    "data = array([11,22,33,44,55,66])\n",
    "print(data[:])\n",
    "print(data[0:-2])"
   ]
  },
  {
   "cell_type": "code",
   "execution_count": 26,
   "id": "471f4ad6",
   "metadata": {},
   "outputs": [
    {
     "name": "stdout",
     "output_type": "stream",
     "text": [
      "[[11 22 33]\n",
      " [44 55 66]\n",
      " [77 88 99]]\n",
      "[[11 22 33]\n",
      " [44 55 66]\n",
      " [77 88 99]]\n"
     ]
    }
   ],
   "source": [
    "#separate data\n",
    "data = array([[11,22,33],[44,55,66],[77,88,99]])\n",
    "x,y = data[:,:],data[:,:]\n",
    "print(x)\n",
    "print(y)"
   ]
  },
  {
   "cell_type": "code",
   "execution_count": 27,
   "id": "f8632bc5",
   "metadata": {},
   "outputs": [
    {
     "name": "stdout",
     "output_type": "stream",
     "text": [
      "['ford', 'volvo', 'honda']\n",
      "['honda']\n"
     ]
    }
   ],
   "source": [
    "#array creation \n",
    "cars = [\"ford\",\"volvo\"]\n",
    "cars.append(\"honda\")\n",
    "print(cars)\n",
    "\n",
    "#to remove an element using pop\n",
    "cars = [\"honda\",\"ford\"]\n",
    "cars.pop(1)\n",
    "print(cars)"
   ]
  },
  {
   "cell_type": "code",
   "execution_count": 32,
   "id": "3fefa4a0",
   "metadata": {},
   "outputs": [
    {
     "name": "stdout",
     "output_type": "stream",
     "text": [
      "array is a type: <class 'numpy.ndarray'>\n",
      "number of dimensions: 2\n",
      "shape of array: (4, 3)\n"
     ]
    }
   ],
   "source": [
    "import numpy as np\n",
    "arr = np.array([[1,2,3],[4,2,5],[4,2,6],[3,4,5]])\n",
    "print(\"array is a type:\",type(arr))\n",
    "print(\"number of dimensions:\",arr.ndim)\n",
    "print(\"shape of array:\",arr.shape)"
   ]
  },
  {
   "cell_type": "code",
   "execution_count": null,
   "id": "0a14de5c",
   "metadata": {},
   "outputs": [],
   "source": [
    "#how to convert list to array\n",
    "#use numpy.array()\n",
    "#or use numpy.asarray()"
   ]
  },
  {
   "cell_type": "code",
   "execution_count": 6,
   "id": "f6561ef4",
   "metadata": {},
   "outputs": [
    {
     "name": "stdout",
     "output_type": "stream",
     "text": [
      "10.0\n"
     ]
    }
   ],
   "source": [
    "def nsqrt(n):\n",
    "    i=0.5*n\n",
    "    j=0.5*(i+n/i)\n",
    "    while j!=i:\n",
    "        i=j\n",
    "        j=0.5*(i+n/i)\n",
    "    return i\n",
    "print(nsqrt(100))"
   ]
  },
  {
   "cell_type": "code",
   "execution_count": 1,
   "id": "bbbb717a",
   "metadata": {},
   "outputs": [
    {
     "name": "stdout",
     "output_type": "stream",
     "text": [
      "5\n"
     ]
    }
   ],
   "source": [
    "def func(a):\n",
    "    a = a + 10\n",
    "    return a\n",
    "a = 5\n",
    "func(a)\n",
    "print(a)"
   ]
  },
  {
   "cell_type": "code",
   "execution_count": 2,
   "id": "2711890b",
   "metadata": {},
   "outputs": [
    {
     "name": "stdout",
     "output_type": "stream",
     "text": [
      "16\n"
     ]
    }
   ],
   "source": [
    "def square(a):\n",
    "    ans  = a*a\n",
    "    return  ans\n",
    "\n",
    "a = 4\n",
    "a = square(a)\n",
    "print(a)"
   ]
  },
  {
   "cell_type": "code",
   "execution_count": 12,
   "id": "92a47e63",
   "metadata": {},
   "outputs": [
    {
     "name": "stdout",
     "output_type": "stream",
     "text": [
      "14\n"
     ]
    }
   ],
   "source": [
    "a=14\n",
    "def f():\n",
    "    global a\n",
    "    a=12\n",
    "print(a)\n",
    "f()"
   ]
  },
  {
   "cell_type": "code",
   "execution_count": 18,
   "id": "1f712f22",
   "metadata": {},
   "outputs": [
    {
     "name": "stdout",
     "output_type": "stream",
     "text": [
      "14\n"
     ]
    }
   ],
   "source": [
    "Fahrenheit = int(input())\n",
    "E = int(input())\n",
    "W = int(input())\n",
    "while Fahrenheit <= E:\n",
    "    Fahrenheit_to_Celsius = (((Fahrenheit - 32) * 5) / 9)\n",
    "    print(Fahrenheit, int(Fahrenheit_to_Celsius))\n",
    "    Fahrenheit = Fahrenheit + W"
   ]
  },
  {
   "cell_type": "code",
   "execution_count": 4,
   "id": "e1e21ea4",
   "metadata": {},
   "outputs": [
    {
     "name": "stdout",
     "output_type": "stream",
     "text": [
      "[5, 2, 8]\n"
     ]
    }
   ],
   "source": [
    "#pop is used for removing an element by providing its index value \n",
    "li = [5,2,6,8]\n",
    "li.pop(2)\n",
    "print(li)"
   ]
  },
  {
   "cell_type": "code",
   "execution_count": 12,
   "id": "71698616",
   "metadata": {},
   "outputs": [
    {
     "name": "stdout",
     "output_type": "stream",
     "text": [
      "[1, 4, 3, 4, 5]\n"
     ]
    }
   ],
   "source": [
    "def change(li):\n",
    "    li[1] = li[1] + 2\n",
    "    li = [3,3,3,4,5]\n",
    "li = [1,2,3,4,5]\n",
    "change(li)\n",
    "print(li)\n"
   ]
  },
  {
   "cell_type": "code",
   "execution_count": 1,
   "id": "c10ed7d7",
   "metadata": {},
   "outputs": [
    {
     "name": "stdout",
     "output_type": "stream",
     "text": [
      "Welcome to AskPython Quiz\n",
      "Are you ready to play the Quiz ? (yes/no) :yes\n",
      "Question 1: What is your Favourite programming language?python\n",
      "correct\n",
      "Question 2: Do you follow any author on AskPython? no\n",
      "Wrong Answer :(\n",
      "Question 3: What is the name of your favourite website for learning Python?Askpython\n",
      "correct\n",
      "Thankyou for Playing this small quiz game, you attempted 2 questions correctly!\n",
      "Marks obtained: 66.66666666666666\n",
      "BYE!\n"
     ]
    }
   ],
   "source": [
    "print('Welcome to AskPython Quiz')\n",
    "answer=input('Are you ready to play the Quiz ? (yes/no) :')\n",
    "score=0\n",
    "total_questions=3\n",
    " \n",
    "if answer.lower()=='yes':\n",
    "    answer=input('Question 1: What is your Favourite programming language?')\n",
    "    if answer.lower()=='python':\n",
    "        score += 1\n",
    "        print('correct')\n",
    "    else:\n",
    "        print('Wrong Answer :(')\n",
    " \n",
    " \n",
    "    answer=input('Question 2: Do you follow any author on AskPython? ')\n",
    "    if answer.lower()=='yes':\n",
    "        score += 1\n",
    "        print('correct')\n",
    "    else:\n",
    "        print('Wrong Answer :(')\n",
    " \n",
    "    answer=input('Question 3: What is the name of your favourite website for learning Python?')\n",
    "    if answer.lower()=='askpython':\n",
    "        score += 1\n",
    "        print('correct')\n",
    "    else:\n",
    "        print('Wrong Answer :(')\n",
    " \n",
    "print('Thankyou for Playing this small quiz game, you attempted',score,\"questions correctly!\")\n",
    "mark=(score/total_questions)*100\n",
    "print('Marks obtained:',mark)\n",
    "print('BYE!')"
   ]
  }
 ],
 "metadata": {
  "kernelspec": {
   "display_name": "Python 3 (ipykernel)",
   "language": "python",
   "name": "python3"
  },
  "language_info": {
   "codemirror_mode": {
    "name": "ipython",
    "version": 3
   },
   "file_extension": ".py",
   "mimetype": "text/x-python",
   "name": "python",
   "nbconvert_exporter": "python",
   "pygments_lexer": "ipython3",
   "version": "3.9.13"
  }
 },
 "nbformat": 4,
 "nbformat_minor": 5
}
